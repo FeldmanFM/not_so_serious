{
 "cells": [
  {
   "cell_type": "code",
   "execution_count": 1,
   "metadata": {
    "collapsed": true
   },
   "outputs": [],
   "source": [
    "from openstack import connection\n",
    "from random import randint\n",
    "import copy\n",
    "from collections import Counter"
   ]
  },
  {
   "cell_type": "code",
   "execution_count": 2,
   "metadata": {},
   "outputs": [],
   "source": [
    "def connection_to_cluster(project):\n",
    "    conn = connection.Connection(auth_url=\"http://controller:35357/v3\",\n",
    "                                 project_name=project,\n",
    "                                 project_domain_name=\"default\",\n",
    "                                 user_domain_name=\"default\",\n",
    "                                 username=\"admin\",\n",
    "                                 password=\"QIP@t4Ay\")\n",
    "    return conn\n",
    "\n",
    "def get_servers(conn):\n",
    "    a = [i for i in conn.compute.servers(all_tenants=True)]\n",
    "    return a\n",
    "\n",
    "def create_real_flavor_dict(maxram=1000000):\n",
    "    \n",
    "    fl = [[fId, conn.compute.get_flavor(flavor=fId).vcpus, conn.compute.get_flavor(flavor=fId).ram]\\\n",
    "               for fId in set([y.flavor['id'] for y in servers_list]) \\\n",
    "               if conn.compute.get_flavor(flavor=fId).ram < maxram]\n",
    "    flu = [list(x) for x in set(tuple(x) for x in fl)]\n",
    "    fd ={}\n",
    "    for i in range(0,len(flu)):\n",
    "        fd[flu[i][0]]=[flu[i][1],flu[i][2]]\n",
    "        \n",
    "        \n",
    "    return fd\n",
    "\n",
    "def get_hypervisors(conn):\n",
    "    a = [i for i in conn.compute.hypervisors()]\n",
    "    return a"
   ]
  },
  {
   "cell_type": "code",
   "execution_count": 3,
   "metadata": {
    "collapsed": true
   },
   "outputs": [],
   "source": [
    "def hyper_dict_create(c,r,hl,sl):\n",
    "    'создаем  словарь гипервизоров'\n",
    "    rd= {}\n",
    "    for i in hl:\n",
    "        h_vm_list = [s.name for s in sl if s.hypervisor_hostname == i.name]\n",
    "        rd[i.name] = { 'name' : i.name,\\\n",
    "                         'cpu'  : c,\\\n",
    "                         'ram'  : r,\\\n",
    "                         'vms'  : h_vm_list,\\\n",
    "                         'vms_count' : len(h_vm_list)\n",
    "\n",
    "\n",
    "            }\n",
    "    return rd\n",
    "\n",
    "def vm_dict_create(sl,fl):\n",
    "    'создаем словарь виртуальных машин'\n",
    "    \n",
    "    rd = {}\n",
    "    for i in sl:\n",
    "        #print(i.name)\n",
    "        res_list = fl[i.flavor['id']]\n",
    "        rd[i.name] = {'name': i.name,\\\n",
    "                 'cpu' : res_list[0],\\\n",
    "                 'ram' : res_list[1],\\\n",
    "                 'name': i.name\n",
    "\n",
    "\n",
    "        }\n",
    "    return rd\n",
    "\n",
    "\n",
    "def hyper_dict_resources_create(hd,vd):\n",
    "    rd = copy.deepcopy(hd)\n",
    "    for i in rd.keys():\n",
    "        sum_ram_perc = (rd[i]['ram'] - sum([vd[j]['ram'] for j in rd[i]['vms']]))/rd[i]['ram'] \n",
    "        sum_cpu_perc = (rd[i]['cpu'] - sum([vd[j]['cpu'] for j in rd[i]['vms']]))/rd[i]['cpu']\n",
    "        rd[i]['perc_cpu'] = sum_cpu_perc\n",
    "        rd[i]['perc_ram'] = sum_ram_perc\n",
    "    return rd"
   ]
  },
  {
   "cell_type": "code",
   "execution_count": 4,
   "metadata": {
    "collapsed": true
   },
   "outputs": [],
   "source": [
    "def count_over (h,v):\n",
    "    vm_vcpu_sum = sum([v[i]['cpu'] for i in v.keys()])\n",
    "    vm_ram_sum = sum([v[i]['ram'] for i in v.keys()])\n",
    "    hyper_vcpu_sum = sum([h[i]['cpu'] for i in h.keys()])\n",
    "    hyper_ram_sum = sum([h[i]['ram'] for i in h.keys()])\n",
    "    \n",
    "    return [vm_vcpu_sum, vm_ram_sum], [hyper_vcpu_sum,hyper_ram_sum],\\\n",
    "        [vm_vcpu_sum / hyper_vcpu_sum, vm_ram_sum/hyper_ram_sum] "
   ]
  },
  {
   "cell_type": "code",
   "execution_count": 5,
   "metadata": {},
   "outputs": [
    {
     "name": "stdout",
     "output_type": "stream",
     "text": [
      "CPU times: user 2.06 s, sys: 92.5 ms, total: 2.15 s\n",
      "Wall time: 23.7 s\n"
     ]
    }
   ],
   "source": [
    "\n",
    "%%time\n",
    "conn = connection_to_cluster('admin')\n",
    "servers_list = get_servers(conn)\n",
    "hyper_list = get_hypervisors(conn)\n",
    "flavor_dict = create_real_flavor_dict()"
   ]
  },
  {
   "cell_type": "code",
   "execution_count": 37,
   "metadata": {
    "collapsed": true
   },
   "outputs": [],
   "source": [
    "#### Описываем ВУ\n",
    "\n",
    "cpu_per_cn = 56\n",
    "#ram_per_cn = 516990\n",
    "ram_per_cn = 493040\n",
    "test_machine = 'site-liferay-10'\n",
    "test_hypervisor = 'cn-d720.egron.tnx'"
   ]
  },
  {
   "cell_type": "code",
   "execution_count": 34,
   "metadata": {},
   "outputs": [],
   "source": [
    "hDict=hyper_dict_create(cpu_per_cn,ram_per_cn,hyper_list,servers_list)\n",
    "vDict=vm_dict_create(servers_list,flavor_dict)\n",
    "hDictRes = hyper_dict_resources_create(hDict,vDict)\n",
    "vm_res_total_list, hyper_res_total_list, over_total_list = count_over(hDictRes,vDict)"
   ]
  },
  {
   "cell_type": "code",
   "execution_count": 35,
   "metadata": {},
   "outputs": [
    {
     "data": {
      "text/plain": [
       "44"
      ]
     },
     "execution_count": 35,
     "metadata": {},
     "output_type": "execute_result"
    }
   ],
   "source": [
    "o = [[i,float(\"{0:.2f}\".format(100*(1 - hDictRes[i]['perc_ram'])))] for i in hDictRes.keys() if hDictRes[i]['perc_ram'] < 0.05]\n",
    "sorted(o, key = lambda x: float(x[1]),reverse=True)\n",
    "len(o)"
   ]
  },
  {
   "cell_type": "code",
   "execution_count": 36,
   "metadata": {
    "scrolled": true
   },
   "outputs": [
    {
     "name": "stdout",
     "output_type": "stream",
     "text": [
      "Всего машин: 1675\n",
      "Необходимо машинам vCPU : 13484 , RAM : 38395224 MB\n",
      "На одном ВУ CPU : 56 , RAM : 516990 MB\n",
      "Всего ВУ: 76\n",
      "Суммарно на ВУ : 4256 , RAM : 39291240 MB\n",
      "Суммарная подписка по CPU : 3.168233082706767 , RAM : 0.9771955275527064\n",
      "Забитость ВУ по RAM\n",
      "Самый забитый : 1.3706415984835296\n",
      "Наименее забитый : 0.8989574266426816\n",
      "Средняя загруженность : 0.9784464934168532\n",
      "\n",
      "Перерасход vCPU относительно CPU ВУ \n",
      "Самый забитый : 4.178571428571429\n",
      "Наименее забитый : 2.0357142857142856\n",
      "Средняя загруженность : 3.171992481203007\n",
      "Свободно RAM : 896016  MiB\n"
     ]
    }
   ],
   "source": [
    "l = [hDictRes[h]['perc_ram'] for h in hDictRes.keys()]\n",
    "m = [hDictRes[h]['perc_cpu'] for h in hDictRes.keys()]\n",
    "\n",
    "\n",
    "\n",
    "print(\"Всего машин:\", len(servers_list))\n",
    "print(\"Необходимо машинам vCPU :\" , vm_res_total_list[0], \", RAM :\", vm_res_total_list[1], \"MiB\" )\n",
    "print(\"На одном ВУ CPU :\", cpu_per_cn, \", RAM :\", ram_per_cn, \"MiB\")\n",
    "print(\"Всего ВУ:\", len(hyper_list))\n",
    "print(\"Суммарно на ВУ :\" , hyper_res_total_list[0], \", RAM :\", hyper_res_total_list[1], \"MiB\" )\n",
    "print(\"Суммарная подписка по CPU :\", over_total_list[0], \", RAM :\", over_total_list[1])\n",
    "\n",
    "print(\"Забитость ВУ по RAM\")\n",
    "print(\"Самый забитый :\", 1-min(l))\n",
    "print(\"Наименее забитый :\", 1-max(l))\n",
    "print(\"Средняя загруженность :\",  1 - sum(l)/len(l))\n",
    "print('')\n",
    "print(\"Перерасход vCPU относительно CPU ВУ \")\n",
    "print(\"Самый забитый :\", 1-min(m))\n",
    "print(\"Наименее забитый :\", 1-max(m))\n",
    "print(\"Средняя загруженность :\", 1 - sum(m)/len(m))\n",
    "\n",
    "\n",
    "print(\"Свободно RAM :\",  hyper_res_total_list[1] - vm_res_total_list[1] ,\" MiB\")\n"
   ]
  },
  {
   "cell_type": "code",
   "execution_count": null,
   "metadata": {},
   "outputs": [],
   "source": []
  },
  {
   "cell_type": "code",
   "execution_count": 10,
   "metadata": {},
   "outputs": [],
   "source": [
    "\n"
   ]
  },
  {
   "cell_type": "code",
   "execution_count": 11,
   "metadata": {},
   "outputs": [],
   "source": []
  },
  {
   "cell_type": "code",
   "execution_count": 26,
   "metadata": {},
   "outputs": [
    {
     "data": {
      "text/plain": [
       "37246"
      ]
     },
     "execution_count": 26,
     "metadata": {},
     "output_type": "execute_result"
    }
   ],
   "source": [
    "i = conn.compute.get_hypervisor(1)\n",
    "i.memory_\n"
   ]
  },
  {
   "cell_type": "code",
   "execution_count": 31,
   "metadata": {},
   "outputs": [],
   "source": [
    "ooo = [[conn.compute.get_hypervisor(i.id).name, conn.compute.get_hypervisor(i.id).memory_used, conn.compute.get_hypervisor(i.id).memory_size, conn.compute.get_hypervisor(i.id).memory_free] for i in conn.compute.hypervisors()]"
   ]
  },
  {
   "cell_type": "code",
   "execution_count": 32,
   "metadata": {
    "scrolled": true
   },
   "outputs": [
    {
     "data": {
      "text/plain": [
       "[['cn-dcaa.egron.tnx', 479744, 516990, 37246],\n",
       " ['cn-db38.egron.tnx', 504320, 516990, 12670],\n",
       " ['cn-da22.egron.tnx', 492032, 516990, 24958],\n",
       " ['cn-e4b8.egron.tnx', 487400, 516990, 29590],\n",
       " ['cn-dca6.egron.tnx', 508416, 516990, 8574],\n",
       " ['cn-daa0.egron.tnx', 508416, 516990, 8574],\n",
       " ['cn-db26.egron.tnx', 492032, 516990, 24958],\n",
       " ['cn-dce8.egron.tnx', 659968, 516990, 0],\n",
       " ['cn-dca2.egron.tnx', 508416, 516990, 8574],\n",
       " ['cn-e4c2.egron.tnx', 487936, 516990, 29054],\n",
       " ['cn-e0ba.egron.tnx', 500224, 516990, 16766],\n",
       " ['cn-db3e.egron.tnx', 508416, 516990, 8574],\n",
       " ['cn-dc8c.egron.tnx', 483840, 516990, 33150],\n",
       " ['cn-db28.egron.tnx', 520704, 516990, 0],\n",
       " ['cn-dc8e.egron.tnx', 483840, 516990, 33150],\n",
       " ['cn-daa6.egron.tnx', 496128, 516990, 20862],\n",
       " ['cn-e13a.egron.tnx', 479744, 516990, 37246],\n",
       " ['cn-dca4.egron.tnx', 483840, 516990, 33150],\n",
       " ['cn-dc84.egron.tnx', 491936, 516989, 25053],\n",
       " ['cn-dce2.egron.tnx', 557568, 516990, 0],\n",
       " ['cn-db08.egron.tnx', 465264, 516990, 51726],\n",
       " ['cn-e4bc.egron.tnx', 475648, 516990, 41342],\n",
       " ['cn-e4ba.egron.tnx', 492032, 516990, 24958],\n",
       " ['cn-dc9a.egron.tnx', 487936, 516990, 29054],\n",
       " ['cn-dc7c.egron.tnx', 487936, 516990, 29054],\n",
       " ['cn-dca8.egron.tnx', 516608, 516990, 382],\n",
       " ['cn-ee38.egron.tnx', 705024, 516990, 0],\n",
       " ['cn-ed8e.egron.tnx', 508416, 516990, 8574],\n",
       " ['cn-ed8c.egron.tnx', 487936, 516990, 29054],\n",
       " ['cn-d724.egron.tnx', 483840, 516990, 33150],\n",
       " ['cn-e8b6.egron.tnx', 549376, 516990, 0],\n",
       " ['cn-e8aa.egron.tnx', 487936, 516990, 29054],\n",
       " ['cn-db76.egron.tnx', 487936, 516990, 29054],\n",
       " ['cn-e8ae.egron.tnx', 516608, 516990, 382],\n",
       " ['cn-e80e.egron.tnx', 483840, 516990, 33150],\n",
       " ['cn-da46.egron.tnx', 492032, 516990, 24958],\n",
       " ['cn-e612.egron.tnx', 520704, 516990, 0],\n",
       " ['cn-e82a.egron.tnx', 492032, 516990, 24958],\n",
       " ['cn-dcec.egron.tnx', 500736, 516990, 16254],\n",
       " ['cn-da44.egron.tnx', 487936, 516990, 29054],\n",
       " ['cn-e128.egron.tnx', 483840, 516990, 33150],\n",
       " ['cn-e818.egron.tnx', 483840, 516990, 33150],\n",
       " ['cn-da1e.egron.tnx', 483840, 516990, 33150],\n",
       " ['cn-e13c.egron.tnx', 582144, 516990, 0],\n",
       " ['cn-da14.egron.tnx', 504320, 516990, 12670],\n",
       " ['cn-da16.egron.tnx', 483840, 516990, 33150],\n",
       " ['cn-da32.egron.tnx', 504320, 516990, 12670],\n",
       " ['cn-da1a.egron.tnx', 508416, 516990, 8574],\n",
       " ['cn-e8a8.egron.tnx', 487936, 516990, 29054],\n",
       " ['cn-e80c.egron.tnx', 504320, 516990, 12670],\n",
       " ['cn-e814.egron.tnx', 487936, 516990, 29054],\n",
       " ['cn-e672.egron.tnx', 487936, 516990, 29054],\n",
       " ['cn-e0dc.egron.tnx', 487936, 516990, 29054],\n",
       " ['cn-e620.egron.tnx', 492032, 516990, 24958],\n",
       " ['cn-da18.egron.tnx', 492544, 516990, 24446],\n",
       " ['cn-da48.egron.tnx', 524800, 516990, 0],\n",
       " ['cn-da4a.egron.tnx', 492032, 516990, 24958],\n",
       " ['cn-da74.egron.tnx', 487936, 516990, 29054],\n",
       " ['cn-db0a.egron.tnx', 508416, 516990, 8574],\n",
       " ['cn-db74.egron.tnx', 517824, 516990, 0],\n",
       " ['cn-dc6c.egron.tnx', 483840, 516990, 33150],\n",
       " ['cn-de10.egron.tnx', 487936, 516990, 29054],\n",
       " ['cn-e0f6.egron.tnx', 487936, 516990, 29054],\n",
       " ['cn-e13e.egron.tnx', 516608, 516990, 382],\n",
       " ['cn-e812.egron.tnx', 487936, 516990, 29054],\n",
       " ['cn-e816.egron.tnx', 487936, 516990, 29054],\n",
       " ['cn-e828.egron.tnx', 508416, 516990, 8574],\n",
       " ['cn-e89a.egron.tnx', 508416, 516990, 8574],\n",
       " ['cn-e826.egron.tnx', 492032, 516990, 24958],\n",
       " ['cn-d720.egron.tnx', 524800, 516990, 0],\n",
       " ['cn-fdec.egron.tnx', 496128, 516990, 20862],\n",
       " ['cn-fe1a.egron.tnx', 492032, 516990, 24958],\n",
       " ['cn-fdc6.egron.tnx', 487936, 516990, 29054],\n",
       " ['cn-db32.egron.tnx', 483840, 516990, 33150],\n",
       " ['cn-e810.egron.tnx', 491936, 516990, 25054],\n",
       " ['cn-e624.egron.tnx', 709120, 516990, 0]]"
      ]
     },
     "execution_count": 32,
     "metadata": {},
     "output_type": "execute_result"
    }
   ],
   "source": [
    "ooo"
   ]
  },
  {
   "cell_type": "code",
   "execution_count": null,
   "metadata": {
    "collapsed": true
   },
   "outputs": [],
   "source": []
  }
 ],
 "metadata": {
  "kernelspec": {
   "display_name": "Python 3",
   "language": "python",
   "name": "python3"
  },
  "language_info": {
   "codemirror_mode": {
    "name": "ipython",
    "version": 3
   },
   "file_extension": ".py",
   "mimetype": "text/x-python",
   "name": "python",
   "nbconvert_exporter": "python",
   "pygments_lexer": "ipython3",
   "version": "3.4.6"
  }
 },
 "nbformat": 4,
 "nbformat_minor": 2
}
