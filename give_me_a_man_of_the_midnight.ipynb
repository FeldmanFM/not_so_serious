{
 "cells": [
  {
   "cell_type": "code",
   "execution_count": 1,
   "metadata": {
    "collapsed": true
   },
   "outputs": [],
   "source": [
    "\n",
    "from openstack import connection\n",
    "from random import randint\n"
   ]
  },
  {
   "cell_type": "code",
   "execution_count": 2,
   "metadata": {},
   "outputs": [],
   "source": [
    "def connection_to_cluster(project):\n",
    "    conn = connection.Connection(auth_url=\"http://controller:35357/v3\",\n",
    "                                 project_name=project,\n",
    "                                 project_domain_name=\"default\",\n",
    "                                 user_domain_name=\"default\",\n",
    "                                 username=\"admin\",\n",
    "                                 password=\"QIP@t4Ay\")\n",
    "    return conn\n",
    "\n",
    "\n",
    "def get_servers(conn):\n",
    "    a = [i for i in conn.compute.servers(all_tenants=True)]\n",
    "    return a\n",
    "\n",
    "\n",
    "def create_test_data(fdict,gnum,maxg,ming):\n",
    "    fdict=dict(fdict)\n",
    "    ng = 1\n",
    "    mn = 1\n",
    "    returnDict_groups_vm = {}\n",
    "    returnDict_name_vm   = {}\n",
    "    while ng < gnum+1:\n",
    "        returnDict_groups_vm[ng]={}\n",
    "        vmn=randint(ming,maxg)\n",
    "        for i in range(1,vmn+1):\n",
    "            res = list(fdict[randint(1,len(fdict.keys()))])\n",
    "            res.append(mn)\n",
    "            returnDict_groups_vm[ng][i]= res\n",
    "            returnDict_name_vm[mn] = {}\n",
    "            returnDict_name_vm[mn]['name'] = \"gr\"+str(ng)+\"-name-\"+str(i)\n",
    "            returnDict_name_vm[mn]['res']=res\n",
    "            mn=mn+1\n",
    "        ng = ng + 1\n",
    "    \n",
    "    return returnDict_groups_vm, returnDict_name_vm\n",
    " \n",
    "    \n",
    "    \n",
    "def create_flavor_dict(maxram=1000000):\n",
    "    fl = [[conn.compute.get_flavor(flavor=fId).vcpus, conn.compute.get_flavor(flavor=fId).ram]\\\n",
    "               for fId in set([y.flavor['id'] for y in servers_list if y.flavor['id'] != '1']) \\\n",
    "               if conn.compute.get_flavor(flavor=fId).ram < maxram]\n",
    "    flu = [list(x) for x in set(tuple(x) for x in fl)]\n",
    "    fd ={}\n",
    "    for i in range(0,len(flu)):\n",
    "        fd[i+1]=flu[i]\n",
    "    return fd\n",
    "        "
   ]
  },
  {
   "cell_type": "code",
   "execution_count": 3,
   "metadata": {
    "collapsed": true
   },
   "outputs": [],
   "source": [
    "## fake variables\n",
    "number_of_groups = 200\n",
    "max_vm_in_group = 7\n",
    "min_vm_in_group = 3\n",
    "number_of_hyp = 76"
   ]
  },
  {
   "cell_type": "code",
   "execution_count": 4,
   "metadata": {},
   "outputs": [],
   "source": [
    "## ask OpenStack about servers and flavors\n",
    "conn = connection_to_cluster('admin')\n",
    "servers_list = get_servers(conn)\n",
    "flavor_dict = create_flavor_dict(65357)"
   ]
  },
  {
   "cell_type": "code",
   "execution_count": 5,
   "metadata": {},
   "outputs": [],
   "source": [
    "## create test data - dcit of groups and dict of vms\n",
    "gDict, vDict = create_test_data(flavor_dict,number_of_groups,max_vm_in_group,min_vm_in_group)"
   ]
  },
  {
   "cell_type": "code",
   "execution_count": 6,
   "metadata": {},
   "outputs": [
    {
     "data": {
      "text/plain": [
       "(6152, 18730008)"
      ]
     },
     "execution_count": 6,
     "metadata": {},
     "output_type": "execute_result"
    }
   ],
   "source": [
    "vcpu_sum_list = sum([vDict[i]['res'][0] for i in vDict.keys()])\n",
    "ram_sum_list = sum([vDict[i]['res'][1] for i in vDict.keys()])\n",
    "vcpu_sum_list, ram_sum_list"
   ]
  },
  {
   "cell_type": "code",
   "execution_count": null,
   "metadata": {
    "collapsed": true
   },
   "outputs": [],
   "source": []
  },
  {
   "cell_type": "code",
   "execution_count": null,
   "metadata": {},
   "outputs": [],
   "source": []
  },
  {
   "cell_type": "code",
   "execution_count": null,
   "metadata": {},
   "outputs": [],
   "source": []
  },
  {
   "cell_type": "code",
   "execution_count": 7,
   "metadata": {},
   "outputs": [],
   "source": [
    "#flavor_list_uniqs, flavor_list_uniqs[21]"
   ]
  },
  {
   "cell_type": "code",
   "execution_count": null,
   "metadata": {},
   "outputs": [],
   "source": []
  },
  {
   "cell_type": "code",
   "execution_count": null,
   "metadata": {},
   "outputs": [],
   "source": []
  },
  {
   "cell_type": "code",
   "execution_count": null,
   "metadata": {
    "collapsed": true
   },
   "outputs": [],
   "source": []
  },
  {
   "cell_type": "code",
   "execution_count": null,
   "metadata": {
    "collapsed": true
   },
   "outputs": [],
   "source": []
  },
  {
   "cell_type": "code",
   "execution_count": null,
   "metadata": {
    "collapsed": true
   },
   "outputs": [],
   "source": []
  },
  {
   "cell_type": "code",
   "execution_count": null,
   "metadata": {
    "collapsed": true
   },
   "outputs": [],
   "source": []
  },
  {
   "cell_type": "code",
   "execution_count": null,
   "metadata": {
    "collapsed": true
   },
   "outputs": [],
   "source": []
  },
  {
   "cell_type": "code",
   "execution_count": null,
   "metadata": {
    "collapsed": true
   },
   "outputs": [],
   "source": []
  },
  {
   "cell_type": "code",
   "execution_count": 8,
   "metadata": {},
   "outputs": [],
   "source": [
    "#l = [''.join(y for y in i.name if not y.isdigit()) for i in x]"
   ]
  },
  {
   "cell_type": "code",
   "execution_count": 9,
   "metadata": {},
   "outputs": [],
   "source": [
    "#len(set(l))"
   ]
  },
  {
   "cell_type": "code",
   "execution_count": 10,
   "metadata": {},
   "outputs": [],
   "source": [
    "#new_set = set([i for i in l if not any(z in i for z in ['test', 'zbx'])])"
   ]
  },
  {
   "cell_type": "code",
   "execution_count": 11,
   "metadata": {},
   "outputs": [],
   "source": [
    "## vars\n",
    "#flavor_list \n",
    "\n",
    "\n"
   ]
  },
  {
   "cell_type": "code",
   "execution_count": null,
   "metadata": {},
   "outputs": [],
   "source": []
  },
  {
   "cell_type": "code",
   "execution_count": null,
   "metadata": {},
   "outputs": [],
   "source": []
  },
  {
   "cell_type": "code",
   "execution_count": null,
   "metadata": {
    "collapsed": true
   },
   "outputs": [],
   "source": []
  },
  {
   "cell_type": "code",
   "execution_count": null,
   "metadata": {
    "collapsed": true
   },
   "outputs": [],
   "source": []
  },
  {
   "cell_type": "code",
   "execution_count": null,
   "metadata": {
    "collapsed": true
   },
   "outputs": [],
   "source": []
  }
 ],
 "metadata": {
  "kernelspec": {
   "display_name": "Python 3",
   "language": "python",
   "name": "python3"
  },
  "language_info": {
   "codemirror_mode": {
    "name": "ipython",
    "version": 3
   },
   "file_extension": ".py",
   "mimetype": "text/x-python",
   "name": "python",
   "nbconvert_exporter": "python",
   "pygments_lexer": "ipython3",
   "version": "3.4.6"
  }
 },
 "nbformat": 4,
 "nbformat_minor": 2
}
