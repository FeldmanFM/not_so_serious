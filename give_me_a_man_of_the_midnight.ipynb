{
 "cells": [
  {
   "cell_type": "code",
   "execution_count": 1,
   "metadata": {},
   "outputs": [],
   "source": [
    "from openstack import connection\n",
    "from random import randint\n",
    "import copy\n"
   ]
  },
  {
   "cell_type": "code",
   "execution_count": 11,
   "metadata": {},
   "outputs": [],
   "source": [
    "def connection_to_cluster(project):\n",
    "    conn = connection.Connection(auth_url=\"http://controller:35357/v3\",\n",
    "                                 project_name=project,\n",
    "                                 project_domain_name=\"default\",\n",
    "                                 user_domain_name=\"default\",\n",
    "                                 username=\"admin\",\n",
    "                                 password=\"QIP@t4Ay\")\n",
    "    return conn\n",
    "\n",
    "\n",
    "def get_servers(conn):\n",
    "    a = [i for i in conn.compute.servers(all_tenants=True)]\n",
    "    return a\n",
    "\n",
    "######\n",
    "\n",
    "def create_test_data(fdict,gnum,maxg,ming):\n",
    "    fdict=dict(fdict)\n",
    "    ng = 1\n",
    "    mn = 1\n",
    "    returnDict_groups_vm = {}\n",
    "    returnDict_name_vm   = {}\n",
    "    while ng < gnum+1:\n",
    "        returnDict_groups_vm[ng]={}\n",
    "        vmn=randint(ming,maxg)\n",
    "        for i in range(1,vmn+1):\n",
    "            res = list(fdict[randint(1,len(fdict.keys()))])\n",
    "            res.append(mn)\n",
    "            returnDict_groups_vm[ng][i]= res\n",
    "            returnDict_name_vm[mn] = {}\n",
    "            returnDict_name_vm[mn]['name'] = \"gr\"+str(ng)+\"-name-\"+str(i)\n",
    "            returnDict_name_vm[mn]['vcpu']=res[0]\n",
    "            returnDict_name_vm[mn]['ram']=res[1]\n",
    "            returnDict_name_vm[mn]['groupid']=ng\n",
    "            mn=mn+1\n",
    "        ng = ng + 1\n",
    "    \n",
    "    return returnDict_groups_vm, returnDict_name_vm, mn-1\n",
    " \n",
    "#####  \n",
    "    \n",
    "def create_flavor_dict(maxram=1000000):\n",
    "    fl = [[conn.compute.get_flavor(flavor=fId).vcpus, conn.compute.get_flavor(flavor=fId).ram]\\\n",
    "               for fId in set([y.flavor['id'] for y in servers_list if y.flavor['id'] != '1']) \\\n",
    "               if conn.compute.get_flavor(flavor=fId).ram < maxram]\n",
    "    flu = [list(x) for x in set(tuple(x) for x in fl)]\n",
    "    fd ={}\n",
    "    for i in range(0,len(flu)):\n",
    "        fd[i+1]=flu[i]\n",
    "    return fd\n",
    "\n",
    "\n",
    "#####\n",
    "\n",
    "\n",
    "def create_hypervisor_dict(noz=3,noh=10,hcpu=1,hram=1024):\n",
    "    rd={}\n",
    "    hprefix='CMP'\n",
    "    min_h_in_az = noh // noz\n",
    "    hnumber=1\n",
    "    aznumber=1\n",
    "    while aznumber < noz + 1:\n",
    "        \n",
    "        #print(hnumber * aznumber)\n",
    "        if hnumber < min_h_in_az * aznumber:\n",
    "            rd[hnumber]={'name':hprefix+str(hnumber),\\\n",
    "                         'az':aznumber,\\\n",
    "                         'free_cpu':hcpu,\\\n",
    "                         'free_ram':hram, \\\n",
    "                         'perc_ram' : 1,\\\n",
    "                         'perc_cpu' : 1,\\\n",
    "                         'vm_count' : 0}\n",
    "            hnumber = hnumber + 1\n",
    "            #print('1',hnumber,aznumber)\n",
    "        elif hnumber > noh:\n",
    "            #print('end',hnumber)\n",
    "            break\n",
    "        elif aznumber == noz:\n",
    "            rd[hnumber]={'name':hprefix+str(hnumber),\\\n",
    "                         'az':aznumber,\\\n",
    "                         'free_cpu':hcpu,\\\n",
    "                         'free_ram':hram,\\\n",
    "                         'perc_ram' : 1,\\\n",
    "                         'perc_cpu' : 1,\\\n",
    "                         'vm_count' : 0}\n",
    "            hnumber = hnumber + 1\n",
    "            #print('2',hnumber,aznumber)\n",
    "        else:\n",
    "            aznumber = aznumber + 1\n",
    "    return rd, copy.deepcopy(rd)\n",
    "\n",
    "\n",
    "#######\n",
    "\n",
    "def create_group_in_use_dict(gdict,noz=3):\n",
    "    rd={}\n",
    "    for i in gDict.keys():\n",
    "        rd[i]={}\n",
    "        rd[i]['vmtotal']=len(gDict[i].keys())\n",
    "        rd[i]['az']={}\n",
    "        rd[i]['hyp']={}\n",
    "        for az in range(1,noz+1):\n",
    "            rd[i]['az'][az]=0\n",
    "        for h in range(1,number_of_hyp+1):\n",
    "            rd[i]['hyp'][h]=0\n",
    "    return rd, copy.deepcopy(rd)\n",
    "\n",
    "#######\n",
    "\n",
    "def count_over (h,v):\n",
    "    h=dict(h)\n",
    "    v=dict(v)\n",
    "    vm_vcpu_sum = sum([v[i]['vcpu'] for i in v.keys()])\n",
    "    vm_ram_sum = sum([v[i]['ram'] for i in v.keys()])\n",
    "    hyper_vcpu_sum = sum([h[i]['free_cpu'] for i in h.keys()])\n",
    "    hyper_ram_sum = sum([h[i]['free_ram'] for i in h.keys()])\n",
    "    \n",
    "    return [vm_vcpu_sum, vm_ram_sum], [hyper_vcpu_sum,hyper_ram_sum], [vm_vcpu_sum / hyper_vcpu_sum, vm_ram_sum/hyper_ram_sum] \n",
    "\n",
    "\n",
    "\n",
    "\n",
    "\n",
    "def calculate_after_loc(v,h,hdictinuse,gdictinuse):\n",
    "    ### Изменения во временных словарях после локации\n",
    "    hdictinuse[h]['free_cpu'] = (hdictinuse[h]['free_cpu'] - vDict[v]['vcpu']) \n",
    "    hdictinuse[h]['perc_cpu'] = (hdictinuse[h]['free_cpu'] - vDict[v]['vcpu']) / hyper_cpu\n",
    "    hdictinuse[h]['free_ram'] = (hdictinuse[h]['free_ram'] - vDict[v]['ram']) \n",
    "    hdictinuse[h]['perc_ram'] = (hdictinuse[h]['free_ram'] - vDict[v]['ram']) / hyper_ram\n",
    "    hdictinuse[h]['vm_count'] = (hdictinuse[h]['vm_count'] + 1)\n",
    "    gdictinuse[vDict[v]['groupid']]['az'][hDict[h]['az']] = gdictinuse[vDict[v]['groupid']]['az'][hDict[h]['az']] + 1 \n",
    "    gdictinuse[vDict[v]['groupid']]['hyp'][h] = gdictinuse[vDict[v]['groupid']]['hyp'][h] + 1\n",
    "\n",
    "    \n",
    "    \n",
    "def get_hid_by_score(hd,gd,vid):\n",
    "    rd={}\n",
    "    for h in hDict.keys():\n",
    "        group = vDict[vid]['groupid']\n",
    "        az = hDict[h]['az']\n",
    "        vmt = gd[group]['vmtotal']\n",
    "        machine_in_az = gd[group]['az'][az]\n",
    "        machine_in_hyp = gd[group]['hyp'][h]\n",
    "        #print((hd[h]['free_ram'] - vDict[vid]['ram']) / hyper_ram)\n",
    "        if (hd[h]['free_ram'] - vDict[vid]['ram']) / hyper_ram < 0.05:\n",
    "            score=-10\n",
    "            score_az = (1 - machine_in_az / vmt)\n",
    "            score_hyp = (1 - machine_in_hyp / vmt)\n",
    "        else:  \n",
    "            score_sum = (0.15 * hd[h]['perc_cpu'] + hd[h]['perc_ram'])/2\n",
    "            score_az = (1 - machine_in_az / vmt)\n",
    "            score_hyp = (1 - machine_in_hyp / vmt)\n",
    "            score = 1.5 * score_sum * 1.1 * score_az * 1.2 * score_hyp\n",
    "        rd[h]={#'mply': score_mply,\\\n",
    "                           'score_az':score_az,\\\n",
    "                           'score_hyp':score_hyp, \n",
    "                           'score': score,\\\n",
    "                           'id' : h,\\\n",
    "                           'ram': hd[h]['free_ram'],\\\n",
    "                           'cpu': hd[h]['free_cpu'],\\\n",
    "                           'vm_count' : hd[h]['vm_count']\n",
    "                          }\n",
    "    ll = [[rd[i]['id'], rd[i]['score']] for i in rd.keys()]\n",
    "    winner = sorted(ll, key = lambda x: float(x[1]), reverse=True)[0]\n",
    "    return winner[0], winner[1]\n",
    "\n",
    "\n"
   ]
  },
  {
   "cell_type": "code",
   "execution_count": 3,
   "metadata": {},
   "outputs": [],
   "source": [
    "## ask OpenStack about servers and flavors\n",
    "conn = connection_to_cluster('admin')\n",
    "servers_list = get_servers(conn)\n",
    "flavor_dict = create_flavor_dict(65357)"
   ]
  },
  {
   "cell_type": "code",
   "execution_count": 12,
   "metadata": {
    "collapsed": true
   },
   "outputs": [],
   "source": [
    "## fake variables\n",
    "number_of_groups = 200\n",
    "max_vm_in_group = 15\n",
    "min_vm_in_group = 2\n",
    "number_of_hyp = 76\n",
    "hyper_cpu = 56\n",
    "hyper_ram = 512000\n"
   ]
  },
  {
   "cell_type": "code",
   "execution_count": null,
   "metadata": {},
   "outputs": [],
   "source": []
  },
  {
   "cell_type": "code",
   "execution_count": 13,
   "metadata": {
    "collapsed": true
   },
   "outputs": [],
   "source": [
    "## create test data - dcit of groups and dict of vms\n",
    "gDict, vDict, vm_count = create_test_data(flavor_dict,number_of_groups,max_vm_in_group,min_vm_in_group)\n",
    "hDict, hDict_in_use = create_hypervisor_dict(noz=3,noh=number_of_hyp,hram=hyper_ram,hcpu=hyper_cpu)\n",
    "gDictLocation, gDictLocation_in_use = create_group_in_use_dict(gDict,noz=3)\n",
    "\n",
    "\n",
    "vm_res_total_list, hyper_res_total_list, over_total_list = count_over(hDict,vDict)"
   ]
  },
  {
   "cell_type": "code",
   "execution_count": 14,
   "metadata": {},
   "outputs": [],
   "source": [
    "#vm_count"
   ]
  },
  {
   "cell_type": "code",
   "execution_count": 15,
   "metadata": {},
   "outputs": [
    {
     "name": "stdout",
     "output_type": "stream",
     "text": [
      "Всего машин: 1706\n",
      "Необходимо машинам vCPU : 10494 , RAM : 30597664 MB\n",
      "На одном ВУ CPU : 56 RAM : 512000 MB\n",
      "Всего ВУ: 76\n",
      "Суммарно на ВУ : 4256 , RAM : 38912000 MB\n",
      "Суммарная подписка по CPU : 2.4656954887218046 , RAM : 0.7863297697368421\n"
     ]
    }
   ],
   "source": [
    "print(\"Всего машин:\", vm_count)\n",
    "print(\"Необходимо машинам vCPU :\" , vm_res_total_list[0], \", RAM :\", vm_res_total_list[1], \"MB\" )\n",
    "print(\"На одном ВУ CPU :\", hyper_cpu, \"RAM :\", hyper_ram, \"MB\")\n",
    "print(\"Всего ВУ:\", number_of_hyp)\n",
    "print(\"Суммарно на ВУ :\" , hyper_res_total_list[0], \", RAM :\", hyper_res_total_list[1], \"MB\" )\n",
    "print(\"Суммарная подписка по CPU :\", over_total_list[0], \", RAM :\", over_total_list[1])"
   ]
  },
  {
   "cell_type": "code",
   "execution_count": 16,
   "metadata": {},
   "outputs": [],
   "source": [
    "scoring_list=[]\n",
    "iteration=0\n",
    "for r,i in sorted([[vDict[i]['ram'],i] for i in vDict.keys()], key = lambda x: int(x[0]),reverse=True):\n",
    "    iteration=iteration + 1 \n",
    "    hid, hid_score = get_hid_by_score(gd=gDictLocation_in_use,hd=hDict_in_use,vid=i)\n",
    "    calculate_after_loc(gdictinuse=gDictLocation_in_use,hdictinuse=hDict_in_use,h=hid,v=i)\n",
    "    scoring_list.append([iteration, i, r, hid, hid_score])\n",
    "    #print(i, r, hid, hid_score)"
   ]
  },
  {
   "cell_type": "code",
   "execution_count": 17,
   "metadata": {},
   "outputs": [
    {
     "name": "stdout",
     "output_type": "stream",
     "text": [
      "Значения score: \n",
      "Максимальный скоринг на итерации : 1.1384999999999998\n",
      "Минимальный скоринг на итерации : -0.012612555803571403\n",
      "Средний : 0.3230198866878473\n"
     ]
    }
   ],
   "source": [
    "s = [h[4] for h in scoring_list]\n",
    "print(\"Значения score: \")\n",
    "print(\"Максимальный скоринг на итерации :\", max(s))\n",
    "print(\"Минимальный скоринг на итерации :\", min(s))\n",
    "print(\"Средний :\", sum(s) / len(s) )\n"
   ]
  },
  {
   "cell_type": "code",
   "execution_count": 18,
   "metadata": {},
   "outputs": [
    {
     "name": "stdout",
     "output_type": "stream",
     "text": [
      "Забитость ВУ по RAM после распределения \n",
      "Самый забитый : 0.848609375\n",
      "Наименее забитый : 0.748140625\n",
      "Средняя загруженность : 0.7943297697368421\n",
      "\n",
      "Перерасход vCPU относительно CPU ВУ после распределения \n",
      "Самый забитый : 2.928571428571429\n",
      "Наименее забитый : 2.142857142857143\n",
      "Средняя загруженность : 2.5765977443609023\n"
     ]
    }
   ],
   "source": [
    "l = [hDict_in_use[h]['perc_ram'] for h in hDict.keys()]\n",
    "m = [hDict_in_use[h]['perc_cpu'] for h in hDict.keys()]\n",
    "\n",
    "print(\"Забитость ВУ по RAM после распределения \")\n",
    "print(\"Самый забитый :\", 1-min(l))\n",
    "print(\"Наименее забитый :\", 1-max(l))\n",
    "print(\"Средняя загруженность :\",  1 - sum(l)/len(l))\n",
    "print('')\n",
    "print(\"Перерасход vCPU относительно CPU ВУ после распределения \")\n",
    "print(\"Самый забитый :\", 1-min(m))\n",
    "print(\"Наименее забитый :\", 1-max(m))\n",
    "print(\"Средняя загруженность :\", 1 - sum(m)/len(m))"
   ]
  },
  {
   "cell_type": "code",
   "execution_count": null,
   "metadata": {},
   "outputs": [],
   "source": [
    "#vm_res_total_list, hyper_res_total_list, over_total_list"
   ]
  },
  {
   "cell_type": "code",
   "execution_count": null,
   "metadata": {},
   "outputs": [],
   "source": [
    "#max([i for i in vDict.keys()]), vDict[max([i for i in vDict.keys()])]"
   ]
  },
  {
   "cell_type": "code",
   "execution_count": null,
   "metadata": {},
   "outputs": [],
   "source": [
    "#vDict[1]"
   ]
  },
  {
   "cell_type": "code",
   "execution_count": null,
   "metadata": {
    "collapsed": true
   },
   "outputs": [],
   "source": [
    "#flavor_list_uniqs, flavor_list_uniqs[21]"
   ]
  },
  {
   "cell_type": "code",
   "execution_count": null,
   "metadata": {},
   "outputs": [],
   "source": []
  },
  {
   "cell_type": "code",
   "execution_count": null,
   "metadata": {},
   "outputs": [],
   "source": [
    "\n",
    "#hDict_in_use=copy.deepcopy(hDict)"
   ]
  },
  {
   "cell_type": "code",
   "execution_count": null,
   "metadata": {},
   "outputs": [],
   "source": [
    "#vDict[12]['vcpu'],vDict[12]['ram']"
   ]
  },
  {
   "cell_type": "code",
   "execution_count": null,
   "metadata": {},
   "outputs": [],
   "source": [
    "#hDict_in_use[76]['free_cpu'] = (hDict_in_use[76]['free_cpu'] - vDict[1]['vcpu']) \n",
    "#hDict_in_use[76]['perc_cpu'] = (hDict_in_use[76]['free_cpu'] - vDict[1]['vcpu']) / hyper_cpu\n",
    "#hDict_in_use[76]['free_ram'] = (hDict_in_use[76]['free_ram'] - vDict[1]['ram']) \n",
    "#hDict_in_use[76]['perc_ram'] = (hDict_in_use[76]['free_ram'] - vDict[1]['ram']) / hyper_ram"
   ]
  },
  {
   "cell_type": "code",
   "execution_count": null,
   "metadata": {},
   "outputs": [],
   "source": [
    "#hDict[75],hDict_in_use[75]"
   ]
  },
  {
   "cell_type": "code",
   "execution_count": null,
   "metadata": {},
   "outputs": [],
   "source": [
    "\n",
    "for r,i in sorted([[vDict[i]['ram'],i] for i in vDict.keys()], key = lambda x: int(x[0]),reverse=True):\n",
    "    hid, hid_score = get_hid_by_score(gd=gDictLocation_in_use,hd=hDict_in_use,vid=i)\n",
    "    calculate_after_loc(gdictinuse=gDictLocation_in_use,hdictinuse=hDict_in_use,h=hid,v=i)\n",
    "    print(i, r, hid, hid_score)"
   ]
  },
  {
   "cell_type": "code",
   "execution_count": null,
   "metadata": {},
   "outputs": [],
   "source": [
    "#for i in vDict.keys():\n",
    "#    hid, hid_score = get_hid_by_score(gd=gDictLocation_in_use,hd=hDict_in_use,vid=i)\n",
    "#    calculate_after_loc(gdictinuse=gDictLocation_in_use,hdictinuse=hDict_in_use,h=hid,v=i)\n",
    "#    print(i, hid, hid_score)"
   ]
  },
  {
   "cell_type": "code",
   "execution_count": null,
   "metadata": {},
   "outputs": [],
   "source": [
    "#hDict_in_use"
   ]
  },
  {
   "cell_type": "code",
   "execution_count": null,
   "metadata": {},
   "outputs": [],
   "source": [
    "#[[i, gDictLocation_in_use[i]['az']] for i in gDict.keys()]"
   ]
  },
  {
   "cell_type": "code",
   "execution_count": null,
   "metadata": {},
   "outputs": [],
   "source": []
  },
  {
   "cell_type": "code",
   "execution_count": null,
   "metadata": {},
   "outputs": [],
   "source": [
    "min(l), max(l), sum(l)/len(l)\n",
    "\n"
   ]
  },
  {
   "cell_type": "code",
   "execution_count": null,
   "metadata": {
    "collapsed": true
   },
   "outputs": [],
   "source": [
    "min(m), max(m), sum(m)/len(m)"
   ]
  },
  {
   "cell_type": "code",
   "execution_count": null,
   "metadata": {
    "collapsed": true
   },
   "outputs": [],
   "source": [
    "'''\n",
    "for i in range(1,10):\n",
    "    vid = randint(1,vm_count)\n",
    "    hid = randint(1,number_of_hyp)\n",
    "    calculate_after_loc(vid,hid,hDict_in_use,gDictLocation_in_use)\n",
    "    i=i+1\n",
    "'''"
   ]
  },
  {
   "cell_type": "code",
   "execution_count": null,
   "metadata": {
    "collapsed": true
   },
   "outputs": [],
   "source": [
    "#calculate_after_loc(1,76,hDict_in_use,gDictLocation_in_use)"
   ]
  },
  {
   "cell_type": "code",
   "execution_count": null,
   "metadata": {},
   "outputs": [],
   "source": []
  },
  {
   "cell_type": "code",
   "execution_count": null,
   "metadata": {},
   "outputs": [],
   "source": [
    "#[[i, gDictLocation_in_use[i]['az']] for i in gDictLocation_in_use.keys()]\n",
    "#gDictLocation_in_use[1], gDictLocation_in_use[68]['az']"
   ]
  },
  {
   "cell_type": "code",
   "execution_count": null,
   "metadata": {
    "collapsed": true
   },
   "outputs": [],
   "source": []
  },
  {
   "cell_type": "code",
   "execution_count": null,
   "metadata": {
    "collapsed": true
   },
   "outputs": [],
   "source": []
  },
  {
   "cell_type": "code",
   "execution_count": null,
   "metadata": {},
   "outputs": [],
   "source": []
  },
  {
   "cell_type": "code",
   "execution_count": null,
   "metadata": {},
   "outputs": [],
   "source": [
    "#rd = {}\n",
    "#vid = 3\n",
    "'''\n",
    "for hypervisor_id in hDict.keys():\n",
    "    group = vDict[vid]['groupid']\n",
    "    az = hDict[hypervisor_id]['az']\n",
    "    vmt = gDictLocation_in_use[group]['vmtotal']\n",
    "    machine_in_az = gDictLocation_in_use[group]['az'][az]\n",
    "    machine_in_hyp = gDictLocation_in_use[group]['hyp'][hypervisor_id]\n",
    "   # score_mply = hDict_in_use[hypervisor_id]['perc_cpu'] * hDict_in_use[hypervisor_id]['perc_ram']\n",
    "    score_sum = (hDict_in_use[hypervisor_id]['perc_cpu'] + hDict_in_use[hypervisor_id]['perc_ram'])/2\n",
    "    score_az = (1 - machine_in_az / vmt)\n",
    "    score_hyp = (1 - machine_in_hyp / vmt)\n",
    "    score = score_sum * score_az * score_hyp\n",
    "    \n",
    "    \n",
    "    rd[hypervisor_id]={#'mply': score_mply,\\\n",
    "                       'score_az':score_az,\\\n",
    "                       'score_hyp':score_hyp, \n",
    "                       'score': score,\\\n",
    "                       'id' : hypervisor_id,\\\n",
    "                       'ram': hDict_in_use[hypervisor_id]['free_ram'],\\\n",
    "                       'cpu': hDict_in_use[hypervisor_id]['free_cpu'],\\\n",
    "                       'vm_count' : hDict_in_use[hypervisor_id]['vm_count']\n",
    "                      }\n",
    "'''"
   ]
  },
  {
   "cell_type": "code",
   "execution_count": null,
   "metadata": {},
   "outputs": [],
   "source": [
    "#[ rd[i] for i in rd.keys() if rd[i]['score'] != 1 ]"
   ]
  },
  {
   "cell_type": "code",
   "execution_count": null,
   "metadata": {},
   "outputs": [],
   "source": [
    "#ll = [ [rd[i]['id'], rd[i]['score']] for i in rd.keys()]\n",
    "\n",
    "#ll"
   ]
  },
  {
   "cell_type": "code",
   "execution_count": null,
   "metadata": {},
   "outputs": [],
   "source": [
    "#sorted(ll, key = lambda x: int(x[1]), reverse=True)[0][0]"
   ]
  },
  {
   "cell_type": "code",
   "execution_count": null,
   "metadata": {
    "collapsed": true
   },
   "outputs": [],
   "source": []
  },
  {
   "cell_type": "code",
   "execution_count": null,
   "metadata": {},
   "outputs": [],
   "source": [
    "def get_hid_by_score(hd,gd,vid):\n",
    "    for h in hDict.keys():\n",
    "        group = vDict[vid]['groupid']\n",
    "        az = hDict[h]['az']\n",
    "        vmt = gd[group]['vmtotal']\n",
    "        machine_in_az = gd[group]['az'][az]\n",
    "        machine_in_hyp = gd[group]['hyp'][h]\n",
    "       # score_mply = hDict_in_use[hypervisor_id]['perc_cpu'] * hDict_in_use[hypervisor_id]['perc_ram']\n",
    "        score_sum = (hd[h]['perc_cpu'] + hd[h]['perc_ram'])/2\n",
    "        score_az = (1 - machine_in_az / vmt)\n",
    "        score_hyp = (1 - machine_in_hyp / vmt)\n",
    "        score = score_sum * score_az * score_hyp\n",
    "\n",
    "\n",
    "        rd[h]={#'mply': score_mply,\\\n",
    "                           'score_az':score_az,\\\n",
    "                           'score_hyp':score_hyp, \n",
    "                           'score': score,\\\n",
    "                           'id' : h,\\\n",
    "                           'ram': hd[h]['free_ram'],\\\n",
    "                           'cpu': hd[h]['free_cpu'],\\\n",
    "                           'vm_count' : hd[h]['vm_count']\n",
    "                          }\n",
    "    ll = [[rd[i]['id'], rd[i]['score']] for i in rd.keys()]\n",
    "    return sorted(ll, key = lambda x: int(x[1]), reverse=True)[0][0]"
   ]
  },
  {
   "cell_type": "code",
   "execution_count": null,
   "metadata": {},
   "outputs": [],
   "source": []
  },
  {
   "cell_type": "code",
   "execution_count": null,
   "metadata": {
    "collapsed": true
   },
   "outputs": [],
   "source": []
  },
  {
   "cell_type": "code",
   "execution_count": null,
   "metadata": {
    "collapsed": true
   },
   "outputs": [],
   "source": []
  },
  {
   "cell_type": "code",
   "execution_count": null,
   "metadata": {
    "collapsed": true
   },
   "outputs": [],
   "source": [
    "#l = [''.join(y for y in i.name if not y.isdigit()) for i in x]"
   ]
  },
  {
   "cell_type": "code",
   "execution_count": null,
   "metadata": {
    "collapsed": true
   },
   "outputs": [],
   "source": [
    "#len(set(l))"
   ]
  },
  {
   "cell_type": "code",
   "execution_count": null,
   "metadata": {
    "collapsed": true
   },
   "outputs": [],
   "source": [
    "#new_set = set([i for i in l if not any(z in i for z in ['test', 'zbx'])])"
   ]
  },
  {
   "cell_type": "code",
   "execution_count": null,
   "metadata": {
    "collapsed": true
   },
   "outputs": [],
   "source": [
    "## vars\n",
    "#flavor_list \n",
    "\n",
    "\n"
   ]
  },
  {
   "cell_type": "code",
   "execution_count": null,
   "metadata": {},
   "outputs": [],
   "source": []
  },
  {
   "cell_type": "code",
   "execution_count": null,
   "metadata": {},
   "outputs": [],
   "source": []
  },
  {
   "cell_type": "code",
   "execution_count": null,
   "metadata": {
    "collapsed": true
   },
   "outputs": [],
   "source": []
  },
  {
   "cell_type": "code",
   "execution_count": null,
   "metadata": {
    "collapsed": true
   },
   "outputs": [],
   "source": []
  },
  {
   "cell_type": "code",
   "execution_count": null,
   "metadata": {
    "collapsed": true
   },
   "outputs": [],
   "source": []
  }
 ],
 "metadata": {
  "kernelspec": {
   "display_name": "Python 3",
   "language": "python",
   "name": "python3"
  },
  "language_info": {
   "codemirror_mode": {
    "name": "ipython",
    "version": 3
   },
   "file_extension": ".py",
   "mimetype": "text/x-python",
   "name": "python",
   "nbconvert_exporter": "python",
   "pygments_lexer": "ipython3",
   "version": "3.6.1"
  }
 },
 "nbformat": 4,
 "nbformat_minor": 2
}
