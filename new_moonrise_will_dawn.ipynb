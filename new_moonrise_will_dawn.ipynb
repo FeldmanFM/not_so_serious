{
 "cells": [
  {
   "cell_type": "code",
   "execution_count": 88,
   "metadata": {
    "collapsed": true
   },
   "outputs": [],
   "source": [
    "\n",
    "\n",
    "import copy\n",
    "def mean(numbers):\n",
    "    return float(sum(numbers)) / max(len(numbers), 1)\n"
   ]
  },
  {
   "cell_type": "code",
   "execution_count": 89,
   "metadata": {
    "collapsed": true
   },
   "outputs": [],
   "source": [
    "### target_files\n",
    "\n",
    "cn_target_file='./new_cn_target'\n",
    "cn_source_file='./new_cn_source'\n",
    "vm_file='./new_vm'"
   ]
  },
  {
   "cell_type": "code",
   "execution_count": 90,
   "metadata": {
    "collapsed": true
   },
   "outputs": [],
   "source": [
    "### res_s + examples\n",
    "cpu_per_cn = 56\n",
    "#ram_per_cn = 512000\n",
    "ram_per_cn = 493040\n",
    "test_machine = 'site-liferay-10'\n",
    "test_hypervisor = 'cn-d720.egron.tnx'"
   ]
  },
  {
   "cell_type": "code",
   "execution_count": 91,
   "metadata": {},
   "outputs": [],
   "source": [
    "with open(vm_file, 'r') as f:\n",
    "    vml = f.readlines()\n",
    "    vml = [i.replace('\\n','').split(',') for i in vml]\n",
    "    \n",
    "f.close()\n",
    "with open(cn_target_file, 'r') as f:\n",
    "    hpl = f.readlines()\n",
    "    hpl = [i.replace('\\n','').split(',') for i in hpl]\n",
    "    \n",
    "f.close()"
   ]
  },
  {
   "cell_type": "code",
   "execution_count": null,
   "metadata": {},
   "outputs": [],
   "source": []
  },
  {
   "cell_type": "code",
   "execution_count": 92,
   "metadata": {},
   "outputs": [],
   "source": [
    "def vm_dict_create(sl):\n",
    "    'создаем словарь виртуальных машин'\n",
    "    \n",
    "    rd = {}\n",
    "    for i in sl:\n",
    "        if i[1]=='':\n",
    "            crit='E'\n",
    "        else:\n",
    "            crit=i[1]\n",
    "        rd[i[0]] = {'name': i[0],\\\n",
    "                 'cpu' : int(i[2]),\\\n",
    "                 'ram' : int(i[3]),\\\n",
    "                 'cn_name':i[4],\\\n",
    "                 'crit_rate':crit\n",
    "\n",
    "\n",
    "        }\n",
    "    return rd\n",
    "\n",
    "\n",
    "def hyper_dict_create(c,r,hl,sl):\n",
    "    'создаем  словарь гипервизоров'\n",
    "    rd= {}\n",
    "    for i in hl:\n",
    "        h_vm_list = [s[0] for s in sl if s[4] == i[0]]\n",
    "        rd[i[0]] = { 'name' : i[0],\\\n",
    "                         'cpu'  : c,\\\n",
    "                         'ram'  : r,\\\n",
    "                         'vms'  : h_vm_list,\\\n",
    "                         'vms_count' : len(h_vm_list)\n",
    "\n",
    "\n",
    "            }\n",
    "    return rd\n",
    "\n",
    "def hyper_dict_resources_create(hd,vd):\n",
    "    rd = copy.deepcopy(hd)\n",
    "    for i in rd.keys():\n",
    "        #print([vd[j]['ram'] for j in rd[i]['vms']] )\n",
    "        sum_ram_perc = (rd[i]['ram'] - sum([vd[j]['ram'] for j in rd[i]['vms']]))/rd[i]['ram'] \n",
    "        sum_cpu_perc = (rd[i]['cpu'] - sum([vd[j]['cpu'] for j in rd[i]['vms']]))/rd[i]['cpu']\n",
    "        rd[i]['perc_cpu'] = sum_cpu_perc\n",
    "        rd[i]['perc_ram'] = sum_ram_perc\n",
    "        rd[i]['free_cpu'] = (rd[i]['cpu'] - sum([vd[j]['cpu'] for j in rd[i]['vms']]))\n",
    "        rd[i]['free_ram'] = (rd[i]['ram'] - sum([vd[j]['ram'] for j in rd[i]['vms']]))\n",
    "    return rd, copy.deepcopy(rd)"
   ]
  },
  {
   "cell_type": "code",
   "execution_count": 93,
   "metadata": {
    "collapsed": true
   },
   "outputs": [],
   "source": [
    "def count_over (h,v):\n",
    "    vm_vcpu_sum = sum([v[i]['cpu'] for i in v.keys()])\n",
    "    vm_ram_sum = sum([v[i]['ram'] for i in v.keys()])\n",
    "    hyper_vcpu_sum = sum([h[i]['cpu'] for i in h.keys()])\n",
    "    hyper_ram_sum = sum([h[i]['ram'] for i in h.keys()])\n",
    "    \n",
    "    return [vm_vcpu_sum, vm_ram_sum], [hyper_vcpu_sum,hyper_ram_sum],\\\n",
    "        [vm_vcpu_sum / hyper_vcpu_sum, vm_ram_sum/hyper_ram_sum] "
   ]
  },
  {
   "cell_type": "code",
   "execution_count": 94,
   "metadata": {
    "collapsed": true
   },
   "outputs": [],
   "source": [
    "def calculate_after_loc(v,h,hdictinuse,gdictinuse):\n",
    "    ### Изменения во временных словарях после локации\n",
    "    hdictinuse[h]['free_cpu'] = (hdictinuse[h]['free_cpu'] - vmd[v]['vcpu']) \n",
    "    hdictinuse[h]['perc_cpu'] = (hdictinuse[h]['free_cpu'] - vmd[v]['vcpu']) / cpu_per_cn\n",
    "    hdictinuse[h]['free_ram'] = (hdictinuse[h]['free_ram'] - vmd[v]['ram']) \n",
    "    hdictinuse[h]['perc_ram'] = (hdictinuse[h]['free_ram'] - vmd[v]['ram']) / ram_per_cn\n",
    "    hdictinuse[h]['vm_count'] = (hdictinuse[h]['vm_count'] + 1)\n",
    "    gdictinuse[vmd[v]['groupid']]['az'][hpd[h]['az']] = gdictinuse[vmd[v]['groupid']]['az'][hpd[h]['az']] + 1 \n",
    "    gdictinuse[vmd[v]['groupid']]['hyp'][h] = gdictinuse[vmd[v]['groupid']]['hyp'][h] + 1\n",
    "    hdictinuse[h]['vms_ids'].append(v)\n",
    "    if vmd[v]['crit_rate'] == 2:\n",
    "        hdictinuse[h]['vm_critical'] = hdictinuse[h]['vm_critical'] + 1\n",
    "    if vmd[v]['crit_rate'] == 1:\n",
    "        hdictinuse[h]['vm_warning'] = hdictinuse[h]['vm_warning'] + 1"
   ]
  },
  {
   "cell_type": "code",
   "execution_count": 95,
   "metadata": {},
   "outputs": [],
   "source": [
    "vmd = vm_dict_create(sl=vml)\n",
    "hpd= hyper_dict_create(cpu_per_cn,ram_per_cn,hpl,vml)\n",
    "hpd_res, hpd_res_in_use = hyper_dict_resources_create(hpd,vmd)\n",
    "vm_res_total_list, hyper_res_total_list, over_total_list = count_over(hpd_res,vmd)"
   ]
  },
  {
   "cell_type": "code",
   "execution_count": 96,
   "metadata": {},
   "outputs": [],
   "source": [
    "#vmd[test_machine],hpd[test_hypervisor],hpd_res[test_hypervisor],hpd_res_in_use[test_hypervisor]"
   ]
  },
  {
   "cell_type": "code",
   "execution_count": 97,
   "metadata": {},
   "outputs": [
    {
     "name": "stdout",
     "output_type": "stream",
     "text": [
      "Всего машин: 1171\n",
      "Необходимо машинам vCPU : 9345 , RAM : 23328448 MB\n",
      "На одном ВУ CPU : 56 , RAM : 493040 MB\n",
      "Всего ВУ: 66\n",
      "Суммарно на ВУ : 3696 , RAM : 32540640 MB\n",
      "Суммарная подписка по CPU : 2.528409090909091 , RAM : 0.7169019416950619\n",
      "Забитость ВУ по RAM\n",
      "Самый забитый : 1.3624533506409215\n",
      "Наименее забитый : 0.06646113905565476\n",
      "Средняя загруженность : 0.7174054351727563\n",
      "\n",
      "Перерасход vCPU относительно CPU ВУ \n",
      "Самый забитый : 3.7142857142857144\n",
      "Наименее забитый : 0.1428571428571429\n",
      "Средняя загруженность : 2.5305735930735933\n"
     ]
    }
   ],
   "source": [
    "l = [hpd_res[h]['perc_ram'] for h in hpd_res.keys()]\n",
    "m = [hpd_res[h]['perc_cpu'] for h in hpd_res.keys()]\n",
    "\n",
    "\n",
    "\n",
    "print(\"Всего машин:\", len(vml))\n",
    "print(\"Необходимо машинам vCPU :\" , vm_res_total_list[0], \", RAM :\", vm_res_total_list[1], \"MB\" )\n",
    "print(\"На одном ВУ CPU :\", cpu_per_cn, \", RAM :\", ram_per_cn, \"MB\")\n",
    "print(\"Всего ВУ:\", len(hpl))\n",
    "print(\"Суммарно на ВУ :\" , hyper_res_total_list[0], \", RAM :\", hyper_res_total_list[1], \"MB\" )\n",
    "print(\"Суммарная подписка по CPU :\", over_total_list[0], \", RAM :\", over_total_list[1])\n",
    "\n",
    "print(\"Забитость ВУ по RAM\")\n",
    "print(\"Самый забитый :\", 1-min(l))\n",
    "print(\"Наименее забитый :\", 1-max(l))\n",
    "print(\"Средняя загруженность :\",  1 - sum(l)/len(l))\n",
    "print('')\n",
    "print(\"Перерасход vCPU относительно CPU ВУ \")\n",
    "print(\"Самый забитый :\", 1-min(m))\n",
    "print(\"Наименее забитый :\", 1-max(m))\n",
    "print(\"Средняя загруженность :\", 1 - sum(m)/len(m))\n"
   ]
  },
  {
   "cell_type": "markdown",
   "metadata": {},
   "source": [
    "### Заполняем словарь hpd_in_use информацией о заполненности"
   ]
  },
  {
   "cell_type": "code",
   "execution_count": 98,
   "metadata": {},
   "outputs": [
    {
     "data": {
      "text/plain": [
       "{'cpu': 56,\n",
       " 'free_cpu': -128,\n",
       " 'free_ram': 83440,\n",
       " 'name': 'cn-d720.egron.tnx',\n",
       " 'perc_cpu': -2.2857142857142856,\n",
       " 'perc_ram': 0.16923576180431607,\n",
       " 'ram': 493040,\n",
       " 'vms': ['cia-sign-06',\n",
       "  'cia-sign-08',\n",
       "  'isurz-elasticsearch-07',\n",
       "  'isurz-xml-storage-21',\n",
       "  'pg-attribute-73',\n",
       "  'pg-attribute-standby-07',\n",
       "  'pg-attribute-standby-25',\n",
       "  'pg-attribute-standby-89',\n",
       "  'pkurp-worker-020',\n",
       "  'pmo-db-fed-01',\n",
       "  'ppoz-bus-command-04',\n",
       "  'ppoz-bus-command-08',\n",
       "  'ppoz-bus-data-08',\n",
       "  'ppoz-bus-data-10',\n",
       "  'ppoz-db-proc-gmp-03',\n",
       "  'ppoz-db-proc-gmp-05',\n",
       "  'ppoz-db-proc-pkurp-05',\n",
       "  'ppoz-db-proc-popd-05',\n",
       "  'ppoz-db-proc-ppoz-05',\n",
       "  'ppoz-db-request-07',\n",
       "  'ppoz-popd-process-04',\n",
       "  'ppoz-process-core-03',\n",
       "  'ppoz-process-core-05',\n",
       "  'ppoz-service-external-03'],\n",
       " 'vms_count': 24}"
      ]
     },
     "execution_count": 98,
     "metadata": {},
     "output_type": "execute_result"
    }
   ],
   "source": [
    "hpd_res_in_use[test_hypervisor]"
   ]
  },
  {
   "cell_type": "code",
   "execution_count": null,
   "metadata": {
    "collapsed": true
   },
   "outputs": [],
   "source": []
  },
  {
   "cell_type": "code",
   "execution_count": null,
   "metadata": {
    "collapsed": true
   },
   "outputs": [],
   "source": []
  },
  {
   "cell_type": "code",
   "execution_count": null,
   "metadata": {
    "collapsed": true
   },
   "outputs": [],
   "source": []
  },
  {
   "cell_type": "code",
   "execution_count": null,
   "metadata": {
    "collapsed": true
   },
   "outputs": [],
   "source": []
  },
  {
   "cell_type": "markdown",
   "metadata": {},
   "source": [
    "### Распределение\n"
   ]
  },
  {
   "cell_type": "code",
   "execution_count": 99,
   "metadata": {
    "collapsed": true
   },
   "outputs": [],
   "source": [
    "def find_best_hid_by_score(v,h_use):\n",
    "    rd={}\n",
    "    for h in h_use.keys(): \n",
    "       \n",
    "        free_ram = h_use[h]['free_ram']\n",
    "        free_cpu = h_use[h]['free_cpu']\n",
    "        if free_ram < 0:\n",
    "            continue\n",
    "        score = count_score(free_cpu,free_ram)\n",
    "        rd[h]={#'mply': score_mply,\\\n",
    "                              # 'score_az':score_az,\\\n",
    "                              # 'score_hyp':score_hyp, \n",
    "                               'score': score,\\\n",
    "                               'id' : h,\\\n",
    "                               'ram': h_use[h]['free_ram'],\\\n",
    "                               'cpu': h_use[h]['free_cpu'],\\\n",
    "                               'vm_count' : h_use[h]['vms']\n",
    "                              }\n",
    "    return rd\n",
    "\n",
    "        \n",
    "def count_score(pc,pr):\n",
    "    \n",
    "    res = (0.05 * pc + 0.5 * pr)/2\n",
    "\n",
    "    ### score = 1.2 * az * 2.5 * hz * (1 - mw)\n",
    "    ### Учитываем ресурсы\n",
    "    score = res\n",
    "    #print(res,az,hz,mw,score)\n",
    "    return score\n",
    "        "
   ]
  },
  {
   "cell_type": "code",
   "execution_count": 100,
   "metadata": {},
   "outputs": [],
   "source": [
    "score_for_test = find_best_hid_by_score(test_machine,hpd_res_in_use)"
   ]
  },
  {
   "cell_type": "code",
   "execution_count": 101,
   "metadata": {},
   "outputs": [],
   "source": [
    "scorint_list = [[i, score_for_test[i]['score'], score_for_test[i]['ram']] for i in score_for_test.keys() ]"
   ]
  },
  {
   "cell_type": "code",
   "execution_count": 102,
   "metadata": {},
   "outputs": [
    {
     "data": {
      "text/plain": [
       "[['cn-db26.egron.tnx', 115069.2, 460272],\n",
       " ['cn-e624.egron.tnx', 85371.65, 341488],\n",
       " ['cn-dce2.egron.tnx', 70011.4, 280048],\n",
       " ['cn-dcaa.egron.tnx', 70011.1, 280048],\n",
       " ['cn-e4b8.egron.tnx', 62843.05, 251376],\n",
       " ['cn-da44.egron.tnx', 62842.75, 251376],\n",
       " ['cn-dc84.egron.tnx', 61819.05, 247280],\n",
       " ['cn-db38.egron.tnx', 60794.8, 243184],\n",
       " ['cn-e8ae.egron.tnx', 59770.7, 239088],\n",
       " ['cn-db3e.egron.tnx', 57722.6, 230896],\n",
       " ['cn-db32.egron.tnx', 55674.4, 222704],\n",
       " ['cn-dca6.egron.tnx', 49530.4, 198128],\n",
       " ['cn-dca8.egron.tnx', 47482.2, 189936],\n",
       " ['cn-dc9a.egron.tnx', 46458.75, 185840],\n",
       " ['cn-da32.egron.tnx', 46458.5, 185840],\n",
       " ['cn-e80c.egron.tnx', 44409.35, 177648],\n",
       " ['cn-dca4.egron.tnx', 43386.4, 173552],\n",
       " ['cn-e0dc.egron.tnx', 42361.85, 169456],\n",
       " ['cn-e8a8.egron.tnx', 42361.45, 169456],\n",
       " ['cn-da22.egron.tnx', 41337.7, 165360],\n",
       " ['cn-da1a.egron.tnx', 41337.65, 165360],\n",
       " ['cn-e0f6.egron.tnx', 38265.95, 153072],\n",
       " ['cn-ed8c.egron.tnx', 38265.7, 153072],\n",
       " ['cn-fe1a.egron.tnx', 37241.75, 148976],\n",
       " ['cn-daa0.egron.tnx', 37241.6, 148976],\n",
       " ['cn-dca2.egron.tnx', 37241.3, 148976],\n",
       " ['cn-e128.egron.tnx', 35194.1, 140784],\n",
       " ['cn-e80e.egron.tnx', 35193.95, 140784],\n",
       " ['cn-d724.egron.tnx', 35193.9, 140784],\n",
       " ['cn-e814.egron.tnx', 34169.65, 136688],\n",
       " ['cn-e816.egron.tnx', 34169.5, 136688],\n",
       " ['cn-e8aa.egron.tnx', 34169.2, 136688],\n",
       " ['cn-e828.egron.tnx', 33145.7, 132592],\n",
       " ['cn-e82a.egron.tnx', 33145.7, 132592],\n",
       " ['cn-dcec.egron.tnx', 33017.875, 132080],\n",
       " ['cn-dc8e.egron.tnx', 31097.55, 124400],\n",
       " ['cn-e818.egron.tnx', 31097.0, 124400],\n",
       " ['cn-db28.egron.tnx', 30074.1, 120304],\n",
       " ['cn-dc7c.egron.tnx', 30073.65, 120304],\n",
       " ['cn-da74.egron.tnx', 30073.55, 120304],\n",
       " ['cn-db0a.egron.tnx', 29050.0, 116208],\n",
       " ['cn-e13a.egron.tnx', 27002.3, 108016],\n",
       " ['cn-da16.egron.tnx', 27001.9, 108016],\n",
       " ['cn-dc8c.egron.tnx', 27001.7, 108016],\n",
       " ['cn-da1e.egron.tnx', 27001.0, 108016],\n",
       " ['cn-e4c2.egron.tnx', 25978.05, 103920],\n",
       " ['cn-fdc6.egron.tnx', 25977.45, 103920],\n",
       " ['cn-de10.egron.tnx', 25977.45, 103920],\n",
       " ['cn-e672.egron.tnx', 25977.35, 103920],\n",
       " ['cn-db76.egron.tnx', 25977.15, 103920],\n",
       " ['cn-da46.egron.tnx', 24952.9, 99824],\n",
       " ['cn-fdec.egron.tnx', 23929.75, 95728],\n",
       " ['cn-dc6c.egron.tnx', 22906.0, 91632],\n",
       " ['cn-e13e.egron.tnx', 22904.9, 91632],\n",
       " ['cn-db74.egron.tnx', 22602.5, 90416],\n",
       " ['cn-da14.egron.tnx', 21882.1, 87536],\n",
       " ['cn-e812.egron.tnx', 21880.65, 87536],\n",
       " ['cn-e89a.egron.tnx', 20857.7, 83440],\n",
       " ['cn-d720.egron.tnx', 20856.8, 83440],\n",
       " ['cn-e13c.egron.tnx', 18808.7, 75248],\n",
       " ['cn-e612.egron.tnx', 17785.55, 71152],\n",
       " ['cn-e810.egron.tnx', 16760.35, 67056],\n",
       " ['cn-e8b6.egron.tnx', 10616.2, 42480]]"
      ]
     },
     "execution_count": 102,
     "metadata": {},
     "output_type": "execute_result"
    }
   ],
   "source": [
    "sorted(scorint_list, key = lambda x: float(x[1]), reverse=True)"
   ]
  },
  {
   "cell_type": "code",
   "execution_count": 103,
   "metadata": {
    "collapsed": true
   },
   "outputs": [],
   "source": [
    "ram_test = [[i,hpd_res_in_use[i]['free_ram']]for i in hpd_res_in_use.keys()]"
   ]
  },
  {
   "cell_type": "code",
   "execution_count": 104,
   "metadata": {},
   "outputs": [],
   "source": [
    "cn_test = sorted(ram_test, key = lambda x: int(x[1]))[:1][0][0]"
   ]
  },
  {
   "cell_type": "code",
   "execution_count": 105,
   "metadata": {},
   "outputs": [
    {
     "data": {
      "text/plain": [
       "'cn-ee38.egron.tnx'"
      ]
     },
     "execution_count": 105,
     "metadata": {},
     "output_type": "execute_result"
    }
   ],
   "source": [
    "cn_test"
   ]
  },
  {
   "cell_type": "code",
   "execution_count": 106,
   "metadata": {},
   "outputs": [
    {
     "data": {
      "text/plain": [
       "61067.63636363636"
      ]
     },
     "execution_count": 106,
     "metadata": {},
     "output_type": "execute_result"
    }
   ],
   "source": [
    "mean([vmd[j]['ram'] for j in hpd_res_in_use[cn_test]['vms']])"
   ]
  },
  {
   "cell_type": "code",
   "execution_count": null,
   "metadata": {
    "collapsed": true
   },
   "outputs": [],
   "source": []
  }
 ],
 "metadata": {
  "kernelspec": {
   "display_name": "Python 3",
   "language": "python",
   "name": "python3"
  },
  "language_info": {
   "codemirror_mode": {
    "name": "ipython",
    "version": 3
   },
   "file_extension": ".py",
   "mimetype": "text/x-python",
   "name": "python",
   "nbconvert_exporter": "python",
   "pygments_lexer": "ipython3",
   "version": "3.4.6"
  }
 },
 "nbformat": 4,
 "nbformat_minor": 2
}
