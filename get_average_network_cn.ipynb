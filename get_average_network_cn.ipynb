{
 "cells": [
  {
   "cell_type": "code",
   "execution_count": 3,
   "metadata": {},
   "outputs": [],
   "source": [
    "import zabbixapi"
   ]
  },
  {
   "cell_type": "code",
   "execution_count": 4,
   "metadata": {},
   "outputs": [],
   "source": [
    "from openpyxl import *\n",
    "from openpyxl.styles import *\n",
    "from zabbix.api import ZabbixAPI\n",
    "from datetime import datetime\n",
    "from datetime import timedelta\n",
    "import time\n",
    "import os\n",
    "import numpy as np\n",
    "from multiprocessing.dummy import Pool as ThreadPool "
   ]
  },
  {
   "cell_type": "code",
   "execution_count": 5,
   "metadata": {},
   "outputs": [],
   "source": [
    "zuser=\"api_user\" # имя пользователя\n",
    "zpass=\"111\" # пароль пользователя\n",
    "zurl=\"http://192.168.200.230\"   # адрес сервера\n",
    "zapi = ZabbixAPI(url=zurl, user=zuser, password=zpass)\n",
    "groupIds=['10'] # id групп хостов"
   ]
  },
  {
   "cell_type": "code",
   "execution_count": null,
   "metadata": {},
   "outputs": [],
   "source": []
  },
  {
   "cell_type": "code",
   "execution_count": 6,
   "metadata": {},
   "outputs": [],
   "source": [
    "def get_data_from_productive_ifaces(gid, dfrom, dtill):\n",
    "    rd={}\n",
    "    hosts = zapi.host.get(output=['host','hostid'], groupids=gid)\n",
    "    #print(hlist)\n",
    "    #print(hosts)\n",
    "    for h in hosts:\n",
    "        \n",
    "        host=h['hostid']\n",
    "        hostname=h['host']\n",
    "        rd[hostname]={}\n",
    "        in_item = zapi.item.get(output='extend', hostids=host, search={'key_': 'net.if.in[bond1]'})\n",
    "        out_item = zapi.item.get(output='extend', hostids=host, search={'key_': 'net.if.out[bond1]'})\n",
    "        print(hostname,in_item[0]['key_'],in_item[0]['itemid'],out_item[0]['key_'],out_item[0]['itemid'])\n",
    "        initem=in_item[0]['itemid']\n",
    "        outitem=out_item[0]['itemid']\n",
    "        print(initem,outitem)\n",
    "        in_history = zapi.history.get(output='extend',itemids=initem, time_from=dfrom, time_till=dtill)\n",
    "        out_history = zapi.history.get(output='extend',itemids=outitem, time_from=dfrom, time_till=dtill)\n",
    "        print(hostname)\n",
    "        inlist=[int(i['value']) for i in in_history]\n",
    "        outlist=[int(i['value']) for i in out_history]\n",
    "        inmean=sum(inlist)/len(inlist)\n",
    "        outmean=sum(outlist)/len(outlist)\n",
    "        print(inmean,outmean)\n",
    "        print(np.std(inlist),np.std(outlist))\n",
    "        rd[hostname]['std_in']=np.std(inlist)\n",
    "        rd[hostname]['std_out']=np.std(outlist)\n",
    "        rd[hostname]['mean_in']=inmean\n",
    "        rd[hostname]['mean_out']=outmean\n",
    "        \n",
    "              #print(in_history)\n",
    "        #print(out_history)\n",
    "    return rd \n",
    "\n",
    "def add_sheet(d,groupname,ofile):\n",
    "    wb = Workbook()\n",
    "    'функция добавления данных в excel формат'\n",
    "    if wb.active.title == \"Sheet\":\n",
    "        wb.remove_sheet(wb.active)\n",
    "    ws=wb.create_sheet(title=groupname)\n",
    "    i=0\n",
    "    ws.merge_cells('A1:E1')\n",
    "    ws['A1'] = \"Группа хостов:  \"+groupname\n",
    "    ws.cell(column=1, row=2+i, value='Хост')\n",
    "    ws.cell(column=2, row=2+i, value='Входящий трафик, Мб/c')\n",
    "    ws.cell(column=3, row=2+i, value='Исходящий трафик, Мб/c')\n",
    "    for host in sorted(d.keys()):\n",
    "        #print(host)\n",
    "        ws.cell(column=1,row=3+i, value=host)\n",
    "        ws.cell(column=2, row=3+i, value=(d[host]['mean_in']/1024/1024))\n",
    "        ws.cell(column=3, row=3+i, value=(d[host]['mean_out']/1024/1024))\n",
    "        ws.cell(column=4, row=3+i, value=d[host]['std_in'])\n",
    "        ws.cell(column=5, row=3+i, value=d[host]['std_'])\n",
    "        i = i + 1\n",
    "    \n",
    "    \n",
    "    '''\n",
    "    data = ws.get_cell_collection()\n",
    "    dict2 = dict()\n",
    "    for i in data:\n",
    "        key = i.column\n",
    "        subkey = i.row\n",
    "        value = i.coordinate\n",
    "        if key in dict2:\n",
    "            dict2[key][subkey] = value\n",
    "        else:\n",
    "            dict2[key] = {}\n",
    "            dict2[key][subkey] = value\n",
    "    #print(dict2)\n",
    "    for col in dict2:\n",
    "        data1 = []\n",
    "        for cell in dict2[col]:\n",
    "            data1.append(dict2[col][cell])\n",
    "        column_widths = []\n",
    "        for cell in data1:\n",
    "            #print(cell)\n",
    "            cellvalue = ws.cell(cell).value\n",
    "            ws.cell(cell).alignment=Alignment(horizontal='center')\n",
    "            column_widths.append(len(cellvalue))\n",
    "            #print(max(column_widths))\n",
    "            ws.column_dimensions[col].width = max(column_widths) + 5\n",
    "            '''\n",
    "    wb.save(ofile)\n"
   ]
  },
  {
   "cell_type": "code",
   "execution_count": 7,
   "metadata": {},
   "outputs": [
    {
     "data": {
      "text/plain": [
       "(1505755737.0, 1506360537.0)"
      ]
     },
     "execution_count": 7,
     "metadata": {},
     "output_type": "execute_result"
    }
   ],
   "source": [
    "dnow=datetime.now()\n",
    "dnow_ts = time.mktime(dnow.timetuple())\n",
    "dweekago = dnow - timedelta(days=7)\n",
    "dweekago_ts = time.mktime(dweekago.timetuple())\n",
    "dweekago_ts, dnow_ts"
   ]
  },
  {
   "cell_type": "code",
   "execution_count": 8,
   "metadata": {},
   "outputs": [],
   "source": [
    "#data_dict = get_data_from_productive_ifaces(gid=groupIds,dfrom=dweekago_ts,dtill=dnow_ts)"
   ]
  },
  {
   "cell_type": "code",
   "execution_count": 9,
   "metadata": {},
   "outputs": [],
   "source": [
    "#data_dict"
   ]
  },
  {
   "cell_type": "code",
   "execution_count": 10,
   "metadata": {},
   "outputs": [],
   "source": [
    "groupname=zapi.hostgroup.get(output=(\"groupid\",\"name\"),groupids=groupIds)[0]['name']"
   ]
  },
  {
   "cell_type": "code",
   "execution_count": 11,
   "metadata": {},
   "outputs": [
    {
     "data": {
      "text/plain": [
       "'4. Вычислительные узлы'"
      ]
     },
     "execution_count": 11,
     "metadata": {},
     "output_type": "execute_result"
    }
   ],
   "source": [
    "groupname"
   ]
  },
  {
   "cell_type": "code",
   "execution_count": 12,
   "metadata": {},
   "outputs": [],
   "source": [
    "#add_sheet(data_dict,groupname, ofile='./test.xlsx')"
   ]
  },
  {
   "cell_type": "code",
   "execution_count": 13,
   "metadata": {},
   "outputs": [],
   "source": [
    "#from multiprocessing.dummy import Pool as ThreadPool "
   ]
  },
  {
   "cell_type": "code",
   "execution_count": 14,
   "metadata": {},
   "outputs": [],
   "source": [
    "def get_data_from_productive_ifaces_multithreading(gid, dfrom, dtill):\n",
    "    pool=ThreadPool(20)\n",
    "    global f \n",
    "    f = dfrom\n",
    "    global t \n",
    "    t = dtill\n",
    "    hosts = zapi.host.get(output=['host','hostid'], groupids=gid)\n",
    "    #print(hlist)\n",
    "    #print(hosts)\n",
    "    results=pool.map(get_data_hosts,hosts)\n",
    "    return results\n",
    "def get_data_hosts(h):\n",
    "    host=h['hostid']\n",
    "    hostname=h['host']\n",
    "    print(hostname,'started')\n",
    "    #rd[hostname]={}\n",
    "    in_item = zapi.item.get(output='extend', hostids=host, history=0, search={'key_': 'system.cpu.util[,idle]'})\n",
    "    #print(in_item)\n",
    "    out_item = zapi.item.get(output='extend', hostids=host,history=0, search={'key_': 'vm.memory.size[available]'})\n",
    "    #print(hostname,in_item[0]['key_'],in_item[0]['itemid'],out_item[0]['key_'],out_item[0]['itemid'])\n",
    "    initem=in_item[0]['itemid']\n",
    "    outitem=out_item[0]['itemid']\n",
    "    #print(initem,outitem)\n",
    "    in_history = zapi.history.get(output='extend',itemids=initem, time_from=f, time_till=t)\n",
    "    out_history = zapi.history.get(output='extend',itemids=outitem, time_from=f, time_till=t)\n",
    "    #print(hostname)\n",
    "    inlist=[int(i['value']) for i in in_history]\n",
    "    outlist=[int(i['value']) for i in out_history]\n",
    "    inmean=sum(inlist)/len(inlist)\n",
    "    inmean = 100 - inmean\n",
    "    outmean=sum(outlist)/len(outlist)\n",
    "    #print(inmean,outmean)\n",
    "    #print(np.std(inlist),np.std(outlist))\n",
    "    #rd[hostname]['std_in']=np.std(inlist)\n",
    "    #rd[hostname]['std_out']=np.std(outlist)\n",
    "    #rd[hostname]['mean_in']=inmean\n",
    "    #rd[hostname]['mean_out']=outmean\n",
    "              #print(in_history)\n",
    "        #print(out_history)\n",
    "    print(hostname,'finished')\n",
    "    return [hostname,inmean,outmean]"
   ]
  },
  {
   "cell_type": "code",
   "execution_count": null,
   "metadata": {},
   "outputs": [
    {
     "name": "stdout",
     "output_type": "stream",
     "text": [
      "cn-e4ba.egron.tnxcn-d720.egron.tnxcn-d724.egron.tnxcn-da1a.egron.tnxcn-da4a.egron.tnxcn-da14.egron.tnxcn-da16.egron.tnxcn-da18.egron.tnxcn-da22.egron.tnxcn-da32.egron.tnxcn-da44.egron.tnxcn-da46.egron.tnxcn-da48.egron.tnxcn-da1e.egron.tnxcn-da74.egron.tnxcn-daa0.egron.tnxcn-daa6.egron.tnxcn-db0a.egron.tnxcn-db08.egron.tnxcn-db3e.egron.tnx                    startedstartedstartedstartedstartedstartedstartedstartedstartedstartedstartedstartedstartedstartedstartedstartedstartedstartedstartedstarted\n",
      "\n",
      "\n",
      "\n",
      "\n",
      "\n",
      "\n",
      "\n",
      "\n",
      "\n",
      "\n",
      "\n",
      "\n",
      "\n",
      "\n",
      "\n",
      "\n",
      "\n",
      "\n",
      "\n",
      "cn-db26.egron.tnx started\n",
      "cn-db28.egron.tnx started\n",
      "cn-db32.egron.tnx started\n",
      "cn-db38.egron.tnx started\n",
      "cn-db74.egron.tnxcn-db76.egron.tnx  startedstarted\n",
      "\n",
      "cn-dc6c.egron.tnx started\n",
      "cn-dc7c.egron.tnx started\n",
      "cn-dc8c.egron.tnx started\n",
      "cn-dc8e.egron.tnxcn-dc9a.egron.tnx  startedstarted\n",
      "\n",
      "cn-dc84.egron.tnx started\n",
      "cn-dca2.egron.tnx started\n",
      "cn-dca4.egron.tnx started\n",
      "cn-dca6.egron.tnx started\n",
      "cn-dca8.egron.tnx started\n",
      "cn-dcaa.egron.tnx started\n",
      "cn-dce2.egron.tnx started\n",
      "cn-dce8.egron.tnx started\n",
      "cn-dcec.egron.tnx started\n",
      "cn-de10.egron.tnx started\n",
      "cn-e0ba.egron.tnx started\n",
      "cn-e0dc.egron.tnx started\n",
      "cn-e0f6.egron.tnx started\n",
      "cn-e4b8.egron.tnx started\n",
      "cn-e4bc.egron.tnx started\n"
     ]
    }
   ],
   "source": [
    "%%time\n",
    "data_dict_1 = get_data_from_productive_ifaces_multithreading(gid=groupIds,dfrom=dweekago_ts,dtill=dnow_ts)"
   ]
  },
  {
   "cell_type": "code",
   "execution_count": null,
   "metadata": {},
   "outputs": [],
   "source": [
    "data_dict_1"
   ]
  },
  {
   "cell_type": "code",
   "execution_count": null,
   "metadata": {},
   "outputs": [],
   "source": []
  }
 ],
 "metadata": {
  "kernelspec": {
   "display_name": "Python 3",
   "language": "python",
   "name": "python3"
  },
  "language_info": {
   "codemirror_mode": {
    "name": "ipython",
    "version": 3
   },
   "file_extension": ".py",
   "mimetype": "text/x-python",
   "name": "python",
   "nbconvert_exporter": "python",
   "pygments_lexer": "ipython3",
   "version": "3.6.2"
  }
 },
 "nbformat": 4,
 "nbformat_minor": 2
}
