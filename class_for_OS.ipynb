{
 "cells": [
  {
   "cell_type": "code",
   "execution_count": 355,
   "metadata": {
    "collapsed": true
   },
   "outputs": [],
   "source": [
    "from openstack import connection, compute, database\n",
    "import copy"
   ]
  },
  {
   "cell_type": "code",
   "execution_count": 393,
   "metadata": {
    "collapsed": true
   },
   "outputs": [],
   "source": [
    "def connection_to_cluster(project):\n",
    "    conn = connection.Connection(auth_url=\"http://controller:35357/v3\",\n",
    "                                 project_name=project,\n",
    "                                 project_domain_name=\"default\",\n",
    "                                 user_domain_name=\"default\",\n",
    "                                 username=\"admin\",\n",
    "                                 password=\"QIP@t4Ay\")\n",
    "    return conn"
   ]
  },
  {
   "cell_type": "code",
   "execution_count": 187,
   "metadata": {},
   "outputs": [],
   "source": [
    "class OSmap(object):\n",
    "    def __init__ (self, connection='', OS=True):\n",
    "        'Инит функции'\n",
    "        if OS == True:\n",
    "            self.__conn = connection\n",
    "            self.__sl = [i for i in self.__conn.compute.servers(all_tenants=True)]\n",
    "            self.__fd = {}\n",
    "            for i in self.__conn.compute.flavors():\n",
    "                self.__fd[i.id] = i.to_dict()\n",
    "            self.fd = copy.deepcopy(self.__fd)\n",
    "            \n",
    "    def get_names (self):\n",
    "        'Функция возвращает список имен ВМ'\n",
    "        a = [i.name for i in self.__sl]\n",
    "        return a\n",
    "    def get_vm_by_name(self, vmn=''):\n",
    "        'Функция возвращает объект ВМ на основании имени'\n",
    "        for i in self.__sl:\n",
    "            if i.name == vmn:\n",
    "                return i\n",
    "    def get_vm_dict(self):\n",
    "        'Возвращает словарь с описанием ВМ из OS + cpu & ram'\n",
    "        d = {}\n",
    "        for i in self.__sl:\n",
    "            d[i.name] = self.get_vm_by_name(vmn=i.name).to_dict()\n",
    "            print(i.name,i.flavor['id'])\n",
    "            d[i.name]['cpu'] = self.__fd[i.flavor['id']]['vcpus']\n",
    "            d[i.name]['ram'] = self.__fd[i.flavor['id']]['ram']\n",
    "            \n",
    "        return d\n",
    "        "
   ]
  },
  {
   "cell_type": "code",
   "execution_count": 188,
   "metadata": {},
   "outputs": [
    {
     "name": "stdout",
     "output_type": "stream",
     "text": [
      "CPU times: user 545 ms, sys: 37.7 ms, total: 583 ms\n",
      "Wall time: 17.1 s\n"
     ]
    }
   ],
   "source": [
    "%%time\n",
    "x = OSmap(connection_to_cluster('admin'))"
   ]
  },
  {
   "cell_type": "code",
   "execution_count": 189,
   "metadata": {},
   "outputs": [
    {
     "data": {
      "text/plain": [
       "{'disk': 72,\n",
       " 'ephemeral': 0,\n",
       " 'id': '5de6871b-ba51-4e4e-be7f-1d44007f1dcc',\n",
       " 'is_disabled': False,\n",
       " 'is_public': True,\n",
       " 'links': [{'href': 'http://controller:8774/v2.1/b83a5fb65edc41a1a745f06aa093d416/flavors/5de6871b-ba51-4e4e-be7f-1d44007f1dcc',\n",
       "   'rel': 'self'},\n",
       "  {'href': 'http://controller:8774/b83a5fb65edc41a1a745f06aa093d416/flavors/5de6871b-ba51-4e4e-be7f-1d44007f1dcc',\n",
       "   'rel': 'bookmark'}],\n",
       " 'location': None,\n",
       " 'name': '8x32768x72',\n",
       " 'ram': 32768,\n",
       " 'rxtx_factor': 1.0,\n",
       " 'swap': '',\n",
       " 'vcpus': 8}"
      ]
     },
     "execution_count": 189,
     "metadata": {},
     "output_type": "execute_result"
    }
   ],
   "source": [
    "x.fd['5de6871b-ba51-4e4e-be7f-1d44007f1dcc']"
   ]
  },
  {
   "cell_type": "code",
   "execution_count": 190,
   "metadata": {},
   "outputs": [
    {
     "name": "stdout",
     "output_type": "stream",
     "text": [
      "make_FreeBSD_great_again 8724e0a0-e209-4025-a272-f04fab547cfa\n",
      "is_efem_vm 76520a4b-7682-4daa-9997-cf8323f3389c\n",
      "is_efem 3905118a-ca74-43be-9e54-4a1370be6042\n",
      "9.4.gerc_new 9b732cc9-e5b7-41b2-87a0-3f70bb59b91c\n",
      "ppoz-popd-process-05 8724e0a0-e209-4025-a272-f04fab547cfa\n",
      "egron-elasticsearch-03 8200c165-9f19-4cdb-bae7-8b0167f06d28\n",
      "migr-node-079 5de6871b-ba51-4e4e-be7f-1d44007f1dcc\n",
      "tnx-mon 3905118a-ca74-43be-9e54-4a1370be6042\n",
      "agent-pvd3 8724e0a0-e209-4025-a272-f04fab547cfa\n",
      "pkurp-worker-022 8724e0a0-e209-4025-a272-f04fab547cfa\n",
      "pkurp-app-039 8724e0a0-e209-4025-a272-f04fab547cfa\n",
      "pkurp-app-038 8724e0a0-e209-4025-a272-f04fab547cfa\n",
      "pkurp-app-037 8724e0a0-e209-4025-a272-f04fab547cfa\n",
      "pkurp-app-036 8724e0a0-e209-4025-a272-f04fab547cfa\n",
      "pkurp-app-035 8724e0a0-e209-4025-a272-f04fab547cfa\n",
      "pkurp-app-034 8724e0a0-e209-4025-a272-f04fab547cfa\n",
      "pkurp-app-033 8724e0a0-e209-4025-a272-f04fab547cfa\n",
      "pkurp-app-032 8724e0a0-e209-4025-a272-f04fab547cfa\n",
      "pkurp-app-031 8724e0a0-e209-4025-a272-f04fab547cfa\n",
      "pkurp-app-030 8724e0a0-e209-4025-a272-f04fab547cfa\n",
      "pkurp-app-029 8724e0a0-e209-4025-a272-f04fab547cfa\n",
      "pkurp-app-028 8724e0a0-e209-4025-a272-f04fab547cfa\n",
      "pkurp-app-027 8724e0a0-e209-4025-a272-f04fab547cfa\n",
      "pkurp-app-026 8724e0a0-e209-4025-a272-f04fab547cfa\n",
      "pkurp-app-025 8724e0a0-e209-4025-a272-f04fab547cfa\n",
      "pkurp-app-024 8724e0a0-e209-4025-a272-f04fab547cfa\n",
      "pkurp-app-023 8724e0a0-e209-4025-a272-f04fab547cfa\n",
      "pkurp-app-022 8724e0a0-e209-4025-a272-f04fab547cfa\n",
      "pkurp-app-021 8724e0a0-e209-4025-a272-f04fab547cfa\n",
      "ppoz-kuvd-migration-service-63 3afca19f-8eb8-4917-a59a-e86dd80dd123\n",
      "ppoz-kuvd-migration-service-62 3afca19f-8eb8-4917-a59a-e86dd80dd123\n",
      "ppoz-kuvd-migration-service-61 3afca19f-8eb8-4917-a59a-e86dd80dd123\n",
      "ppoz-kuvd-migration-service-91 3afca19f-8eb8-4917-a59a-e86dd80dd123\n",
      "ppoz-kuvd-migration-service-90 3afca19f-8eb8-4917-a59a-e86dd80dd123\n",
      "ppoz-kuvd-migration-service-89 3afca19f-8eb8-4917-a59a-e86dd80dd123\n",
      "ppoz-kuvd-migration-service-87 3afca19f-8eb8-4917-a59a-e86dd80dd123\n",
      "ppoz-kuvd-migration-service-86 3afca19f-8eb8-4917-a59a-e86dd80dd123\n",
      "ppoz-kuvd-migration-service-83 3afca19f-8eb8-4917-a59a-e86dd80dd123\n",
      "ppoz-kuvd-migration-service-79 3afca19f-8eb8-4917-a59a-e86dd80dd123\n",
      "ppoz-kuvd-migration-service-78 3afca19f-8eb8-4917-a59a-e86dd80dd123\n",
      "ppoz-kuvd-migration-service-77 3afca19f-8eb8-4917-a59a-e86dd80dd123\n",
      "ppoz-kuvd-migration-service-76 3afca19f-8eb8-4917-a59a-e86dd80dd123\n",
      "ppoz-kuvd-migration-service-75 3afca19f-8eb8-4917-a59a-e86dd80dd123\n",
      "ppoz-kuvd-migration-service-74 3afca19f-8eb8-4917-a59a-e86dd80dd123\n",
      "ppoz-kuvd-migration-service-73 3afca19f-8eb8-4917-a59a-e86dd80dd123\n",
      "ppoz-kuvd-migration-service-72 3afca19f-8eb8-4917-a59a-e86dd80dd123\n",
      "ppoz-kuvd-migration-service-71 3afca19f-8eb8-4917-a59a-e86dd80dd123\n",
      "ppoz-kuvd-migration-service-70 3afca19f-8eb8-4917-a59a-e86dd80dd123\n",
      "ppoz-kuvd-migration-service-69 3afca19f-8eb8-4917-a59a-e86dd80dd123\n",
      "ppoz-kuvd-migration-service-68 3afca19f-8eb8-4917-a59a-e86dd80dd123\n",
      "ppoz-kuvd-migration-service-67 3afca19f-8eb8-4917-a59a-e86dd80dd123\n",
      "ppoz-kuvd-migration-service-66 3afca19f-8eb8-4917-a59a-e86dd80dd123\n",
      "ppoz-kuvd-migration-service-65 3afca19f-8eb8-4917-a59a-e86dd80dd123\n",
      "ppoz-kuvd-migration-service-64 3afca19f-8eb8-4917-a59a-e86dd80dd123\n",
      "migr-arc-50 5de6871b-ba51-4e4e-be7f-1d44007f1dcc\n",
      "isurz-xml-storage-82 dcf4f459-e849-470f-998f-0fa7dce0f8c0\n",
      "isurz-xml-storage-85 8724e0a0-e209-4025-a272-f04fab547cfa\n",
      "isurz-xml-storage-80 dcf4f459-e849-470f-998f-0fa7dce0f8c0\n",
      "mgmt-repo-01 b50c24ce-4d9a-4997-9cd1-eb0703936d18\n",
      "mgmt-pypi-01 75102078-bf08-48e1-9d10-f7cd9a5089dc\n",
      "isurz-xml-storage-right-registry-entities 8724e0a0-e209-4025-a272-f04fab547cfa\n",
      "migr-analitycs-01 f251edf6-93e0-419a-b0d4-0c2091be4f98\n"
     ]
    },
    {
     "ename": "KeyError",
     "evalue": "'f251edf6-93e0-419a-b0d4-0c2091be4f98'",
     "output_type": "error",
     "traceback": [
      "\u001b[0;31m---------------------------------------------------------------------------\u001b[0m",
      "\u001b[0;31mKeyError\u001b[0m                                  Traceback (most recent call last)",
      "\u001b[0;32m<ipython-input-190-3012284c14d2>\u001b[0m in \u001b[0;36m<module>\u001b[0;34m()\u001b[0m\n\u001b[0;32m----> 1\u001b[0;31m \u001b[0mget_ipython\u001b[0m\u001b[0;34m(\u001b[0m\u001b[0;34m)\u001b[0m\u001b[0;34m.\u001b[0m\u001b[0mrun_cell_magic\u001b[0m\u001b[0;34m(\u001b[0m\u001b[0;34m'time'\u001b[0m\u001b[0;34m,\u001b[0m \u001b[0;34m''\u001b[0m\u001b[0;34m,\u001b[0m \u001b[0;34m'fd = x.get_vm_dict()'\u001b[0m\u001b[0;34m)\u001b[0m\u001b[0;34m\u001b[0m\u001b[0m\n\u001b[0m",
      "\u001b[0;32m/Users/Feldman/anaconda3/lib/python3.6/site-packages/IPython/core/interactiveshell.py\u001b[0m in \u001b[0;36mrun_cell_magic\u001b[0;34m(self, magic_name, line, cell)\u001b[0m\n\u001b[1;32m   2113\u001b[0m             \u001b[0mmagic_arg_s\u001b[0m \u001b[0;34m=\u001b[0m \u001b[0mself\u001b[0m\u001b[0;34m.\u001b[0m\u001b[0mvar_expand\u001b[0m\u001b[0;34m(\u001b[0m\u001b[0mline\u001b[0m\u001b[0;34m,\u001b[0m \u001b[0mstack_depth\u001b[0m\u001b[0;34m)\u001b[0m\u001b[0;34m\u001b[0m\u001b[0m\n\u001b[1;32m   2114\u001b[0m             \u001b[0;32mwith\u001b[0m \u001b[0mself\u001b[0m\u001b[0;34m.\u001b[0m\u001b[0mbuiltin_trap\u001b[0m\u001b[0;34m:\u001b[0m\u001b[0;34m\u001b[0m\u001b[0m\n\u001b[0;32m-> 2115\u001b[0;31m                 \u001b[0mresult\u001b[0m \u001b[0;34m=\u001b[0m \u001b[0mfn\u001b[0m\u001b[0;34m(\u001b[0m\u001b[0mmagic_arg_s\u001b[0m\u001b[0;34m,\u001b[0m \u001b[0mcell\u001b[0m\u001b[0;34m)\u001b[0m\u001b[0;34m\u001b[0m\u001b[0m\n\u001b[0m\u001b[1;32m   2116\u001b[0m             \u001b[0;32mreturn\u001b[0m \u001b[0mresult\u001b[0m\u001b[0;34m\u001b[0m\u001b[0m\n\u001b[1;32m   2117\u001b[0m \u001b[0;34m\u001b[0m\u001b[0m\n",
      "\u001b[0;32m<decorator-gen-59>\u001b[0m in \u001b[0;36mtime\u001b[0;34m(self, line, cell, local_ns)\u001b[0m\n",
      "\u001b[0;32m/Users/Feldman/anaconda3/lib/python3.6/site-packages/IPython/core/magic.py\u001b[0m in \u001b[0;36m<lambda>\u001b[0;34m(f, *a, **k)\u001b[0m\n\u001b[1;32m    186\u001b[0m     \u001b[0;31m# but it's overkill for just that one bit of state.\u001b[0m\u001b[0;34m\u001b[0m\u001b[0;34m\u001b[0m\u001b[0m\n\u001b[1;32m    187\u001b[0m     \u001b[0;32mdef\u001b[0m \u001b[0mmagic_deco\u001b[0m\u001b[0;34m(\u001b[0m\u001b[0marg\u001b[0m\u001b[0;34m)\u001b[0m\u001b[0;34m:\u001b[0m\u001b[0;34m\u001b[0m\u001b[0m\n\u001b[0;32m--> 188\u001b[0;31m         \u001b[0mcall\u001b[0m \u001b[0;34m=\u001b[0m \u001b[0;32mlambda\u001b[0m \u001b[0mf\u001b[0m\u001b[0;34m,\u001b[0m \u001b[0;34m*\u001b[0m\u001b[0ma\u001b[0m\u001b[0;34m,\u001b[0m \u001b[0;34m**\u001b[0m\u001b[0mk\u001b[0m\u001b[0;34m:\u001b[0m \u001b[0mf\u001b[0m\u001b[0;34m(\u001b[0m\u001b[0;34m*\u001b[0m\u001b[0ma\u001b[0m\u001b[0;34m,\u001b[0m \u001b[0;34m**\u001b[0m\u001b[0mk\u001b[0m\u001b[0;34m)\u001b[0m\u001b[0;34m\u001b[0m\u001b[0m\n\u001b[0m\u001b[1;32m    189\u001b[0m \u001b[0;34m\u001b[0m\u001b[0m\n\u001b[1;32m    190\u001b[0m         \u001b[0;32mif\u001b[0m \u001b[0mcallable\u001b[0m\u001b[0;34m(\u001b[0m\u001b[0marg\u001b[0m\u001b[0;34m)\u001b[0m\u001b[0;34m:\u001b[0m\u001b[0;34m\u001b[0m\u001b[0m\n",
      "\u001b[0;32m/Users/Feldman/anaconda3/lib/python3.6/site-packages/IPython/core/magics/execution.py\u001b[0m in \u001b[0;36mtime\u001b[0;34m(self, line, cell, local_ns)\u001b[0m\n\u001b[1;32m   1183\u001b[0m         \u001b[0;32melse\u001b[0m\u001b[0;34m:\u001b[0m\u001b[0;34m\u001b[0m\u001b[0m\n\u001b[1;32m   1184\u001b[0m             \u001b[0mst\u001b[0m \u001b[0;34m=\u001b[0m \u001b[0mclock2\u001b[0m\u001b[0;34m(\u001b[0m\u001b[0;34m)\u001b[0m\u001b[0;34m\u001b[0m\u001b[0m\n\u001b[0;32m-> 1185\u001b[0;31m             \u001b[0mexec\u001b[0m\u001b[0;34m(\u001b[0m\u001b[0mcode\u001b[0m\u001b[0;34m,\u001b[0m \u001b[0mglob\u001b[0m\u001b[0;34m,\u001b[0m \u001b[0mlocal_ns\u001b[0m\u001b[0;34m)\u001b[0m\u001b[0;34m\u001b[0m\u001b[0m\n\u001b[0m\u001b[1;32m   1186\u001b[0m             \u001b[0mend\u001b[0m \u001b[0;34m=\u001b[0m \u001b[0mclock2\u001b[0m\u001b[0;34m(\u001b[0m\u001b[0;34m)\u001b[0m\u001b[0;34m\u001b[0m\u001b[0m\n\u001b[1;32m   1187\u001b[0m             \u001b[0mout\u001b[0m \u001b[0;34m=\u001b[0m \u001b[0;32mNone\u001b[0m\u001b[0;34m\u001b[0m\u001b[0m\n",
      "\u001b[0;32m<timed exec>\u001b[0m in \u001b[0;36m<module>\u001b[0;34m()\u001b[0m\n",
      "\u001b[0;32m<ipython-input-187-e82b9b2e7bcb>\u001b[0m in \u001b[0;36mget_vm_dict\u001b[0;34m(self)\u001b[0m\n\u001b[1;32m     25\u001b[0m             \u001b[0md\u001b[0m\u001b[0;34m[\u001b[0m\u001b[0mi\u001b[0m\u001b[0;34m.\u001b[0m\u001b[0mname\u001b[0m\u001b[0;34m]\u001b[0m \u001b[0;34m=\u001b[0m \u001b[0mself\u001b[0m\u001b[0;34m.\u001b[0m\u001b[0mget_vm_by_name\u001b[0m\u001b[0;34m(\u001b[0m\u001b[0mvmn\u001b[0m\u001b[0;34m=\u001b[0m\u001b[0mi\u001b[0m\u001b[0;34m.\u001b[0m\u001b[0mname\u001b[0m\u001b[0;34m)\u001b[0m\u001b[0;34m.\u001b[0m\u001b[0mto_dict\u001b[0m\u001b[0;34m(\u001b[0m\u001b[0;34m)\u001b[0m\u001b[0;34m\u001b[0m\u001b[0m\n\u001b[1;32m     26\u001b[0m             \u001b[0mprint\u001b[0m\u001b[0;34m(\u001b[0m\u001b[0mi\u001b[0m\u001b[0;34m.\u001b[0m\u001b[0mname\u001b[0m\u001b[0;34m,\u001b[0m\u001b[0mi\u001b[0m\u001b[0;34m.\u001b[0m\u001b[0mflavor\u001b[0m\u001b[0;34m[\u001b[0m\u001b[0;34m'id'\u001b[0m\u001b[0;34m]\u001b[0m\u001b[0;34m)\u001b[0m\u001b[0;34m\u001b[0m\u001b[0m\n\u001b[0;32m---> 27\u001b[0;31m             \u001b[0md\u001b[0m\u001b[0;34m[\u001b[0m\u001b[0mi\u001b[0m\u001b[0;34m.\u001b[0m\u001b[0mname\u001b[0m\u001b[0;34m]\u001b[0m\u001b[0;34m[\u001b[0m\u001b[0;34m'cpu'\u001b[0m\u001b[0;34m]\u001b[0m \u001b[0;34m=\u001b[0m \u001b[0mself\u001b[0m\u001b[0;34m.\u001b[0m\u001b[0m__fd\u001b[0m\u001b[0;34m[\u001b[0m\u001b[0mi\u001b[0m\u001b[0;34m.\u001b[0m\u001b[0mflavor\u001b[0m\u001b[0;34m[\u001b[0m\u001b[0;34m'id'\u001b[0m\u001b[0;34m]\u001b[0m\u001b[0;34m]\u001b[0m\u001b[0;34m[\u001b[0m\u001b[0;34m'vcpus'\u001b[0m\u001b[0;34m]\u001b[0m\u001b[0;34m\u001b[0m\u001b[0m\n\u001b[0m\u001b[1;32m     28\u001b[0m             \u001b[0md\u001b[0m\u001b[0;34m[\u001b[0m\u001b[0mi\u001b[0m\u001b[0;34m.\u001b[0m\u001b[0mname\u001b[0m\u001b[0;34m]\u001b[0m\u001b[0;34m[\u001b[0m\u001b[0;34m'ram'\u001b[0m\u001b[0;34m]\u001b[0m \u001b[0;34m=\u001b[0m \u001b[0mself\u001b[0m\u001b[0;34m.\u001b[0m\u001b[0m__fd\u001b[0m\u001b[0;34m[\u001b[0m\u001b[0mi\u001b[0m\u001b[0;34m.\u001b[0m\u001b[0mflavor\u001b[0m\u001b[0;34m[\u001b[0m\u001b[0;34m'id'\u001b[0m\u001b[0;34m]\u001b[0m\u001b[0;34m]\u001b[0m\u001b[0;34m[\u001b[0m\u001b[0;34m'ram'\u001b[0m\u001b[0;34m]\u001b[0m\u001b[0;34m\u001b[0m\u001b[0m\n\u001b[1;32m     29\u001b[0m \u001b[0;34m\u001b[0m\u001b[0m\n",
      "\u001b[0;31mKeyError\u001b[0m: 'f251edf6-93e0-419a-b0d4-0c2091be4f98'"
     ]
    }
   ],
   "source": [
    "%%time\n",
    "fd = x.get_vm_dict()"
   ]
  },
  {
   "cell_type": "code",
   "execution_count": 191,
   "metadata": {},
   "outputs": [
    {
     "data": {
      "text/plain": [
       "{'access_ipv4': '',\n",
       " 'access_ipv6': '',\n",
       " 'addresses': {'vlan_20': [{'OS-EXT-IPS-MAC:mac_addr': 'fa:16:3e:11:f3:86',\n",
       "    'OS-EXT-IPS:type': 'fixed',\n",
       "    'addr': '10.135.10.181',\n",
       "    'version': 4}]},\n",
       " 'admin_password': None,\n",
       " 'attached_volumes': [{'id': 'ba20f28b-d538-4fe1-93c1-062dcea93d5f'},\n",
       "  {'id': '02e7b15e-efba-46b0-aebc-4e340a134af2'}],\n",
       " 'availability_zone': 'nova',\n",
       " 'block_device_mapping': None,\n",
       " 'created_at': '2017-07-24T20:14:30Z',\n",
       " 'disk_config': 'MANUAL',\n",
       " 'flavor': {'id': 'f251edf6-93e0-419a-b0d4-0c2091be4f98',\n",
       "  'links': [{'href': 'http://controller:8774/b83a5fb65edc41a1a745f06aa093d416/flavors/f251edf6-93e0-419a-b0d4-0c2091be4f98',\n",
       "    'rel': 'bookmark'}]},\n",
       " 'flavor_id': None,\n",
       " 'has_config_drive': '',\n",
       " 'host_id': '680e087694930dc0a843f0c41fe524f140767c6ea74605478a34fb8d',\n",
       " 'hypervisor_hostname': 'cn-e0ba.egron.tnx',\n",
       " 'id': '4a73e80d-c37d-44fd-89e7-4eefcf1fada2',\n",
       " 'image': {},\n",
       " 'image_id': None,\n",
       " 'instance_name': 'instance-0000302d',\n",
       " 'key_name': None,\n",
       " 'launched_at': '2017-09-10T01:38:14.000000',\n",
       " 'links': [{'href': 'http://controller:8774/v2.1/b83a5fb65edc41a1a745f06aa093d416/servers/4a73e80d-c37d-44fd-89e7-4eefcf1fada2',\n",
       "   'rel': 'self'},\n",
       "  {'href': 'http://controller:8774/b83a5fb65edc41a1a745f06aa093d416/servers/4a73e80d-c37d-44fd-89e7-4eefcf1fada2',\n",
       "   'rel': 'bookmark'}],\n",
       " 'location': None,\n",
       " 'metadata': {},\n",
       " 'name': 'migr-analitycs-01',\n",
       " 'networks': None,\n",
       " 'personality': None,\n",
       " 'power_state': 1,\n",
       " 'progress': 0,\n",
       " 'project_id': 'f76f6e94741b4c3981e72356abb3feb6',\n",
       " 'scheduler_hints': None,\n",
       " 'security_groups': [{'name': 'default'}],\n",
       " 'status': 'ACTIVE',\n",
       " 'task_state': None,\n",
       " 'terminated_at': None,\n",
       " 'updated_at': '2017-09-10T04:13:42Z',\n",
       " 'user_data': None,\n",
       " 'user_id': 'c730609d64f6421ca7ba87edd89cbf63',\n",
       " 'vm_state': 'active'}"
      ]
     },
     "execution_count": 191,
     "metadata": {},
     "output_type": "execute_result"
    }
   ],
   "source": [
    "fd['migr-analitycs-01']"
   ]
  },
  {
   "cell_type": "code",
   "execution_count": 33,
   "metadata": {},
   "outputs": [],
   "source": [
    "vm = x.get_names()[0]"
   ]
  },
  {
   "cell_type": "code",
   "execution_count": 34,
   "metadata": {},
   "outputs": [
    {
     "data": {
      "text/plain": [
       "['__class__',\n",
       " '__delattr__',\n",
       " '__dict__',\n",
       " '__dir__',\n",
       " '__doc__',\n",
       " '__eq__',\n",
       " '__format__',\n",
       " '__ge__',\n",
       " '__getattribute__',\n",
       " '__gt__',\n",
       " '__hash__',\n",
       " '__init__',\n",
       " '__init_subclass__',\n",
       " '__le__',\n",
       " '__lt__',\n",
       " '__module__',\n",
       " '__ne__',\n",
       " '__new__',\n",
       " '__reduce__',\n",
       " '__reduce_ex__',\n",
       " '__repr__',\n",
       " '__setattr__',\n",
       " '__sizeof__',\n",
       " '__str__',\n",
       " '__subclasshook__',\n",
       " '__weakref__',\n",
       " '_action',\n",
       " '_alternate_id',\n",
       " '_body',\n",
       " '_body_mapping',\n",
       " '_collect_attrs',\n",
       " '_consume_attrs',\n",
       " '_filter_component',\n",
       " '_get_id',\n",
       " '_get_mapping',\n",
       " '_get_one_match',\n",
       " '_header',\n",
       " '_header_mapping',\n",
       " '_metadata',\n",
       " '_prepare_request',\n",
       " '_query_mapping',\n",
       " '_translate_response',\n",
       " '_update',\n",
       " '_uri',\n",
       " '_uri_mapping',\n",
       " 'access_ipv4',\n",
       " 'access_ipv6',\n",
       " 'add_fixed_ip',\n",
       " 'add_floating_ip',\n",
       " 'add_security_group',\n",
       " 'addresses',\n",
       " 'admin_password',\n",
       " 'allow_create',\n",
       " 'allow_delete',\n",
       " 'allow_get',\n",
       " 'allow_head',\n",
       " 'allow_list',\n",
       " 'allow_update',\n",
       " 'attached_volumes',\n",
       " 'availability_zone',\n",
       " 'backup',\n",
       " 'base_path',\n",
       " 'block_device_mapping',\n",
       " 'change_password',\n",
       " 'confirm_resize',\n",
       " 'create',\n",
       " 'create_image',\n",
       " 'created_at',\n",
       " 'delete',\n",
       " 'delete_metadata',\n",
       " 'disk_config',\n",
       " 'evacuate',\n",
       " 'existing',\n",
       " 'find',\n",
       " 'flavor',\n",
       " 'flavor_id',\n",
       " 'force_delete',\n",
       " 'get',\n",
       " 'get_console_output',\n",
       " 'get_metadata',\n",
       " 'has_config_drive',\n",
       " 'head',\n",
       " 'host_id',\n",
       " 'hypervisor_hostname',\n",
       " 'id',\n",
       " 'image',\n",
       " 'image_id',\n",
       " 'instance_name',\n",
       " 'key_name',\n",
       " 'launched_at',\n",
       " 'links',\n",
       " 'list',\n",
       " 'live_migrate',\n",
       " 'location',\n",
       " 'lock',\n",
       " 'metadata',\n",
       " 'migrate',\n",
       " 'name',\n",
       " 'networks',\n",
       " 'new',\n",
       " 'patch_update',\n",
       " 'pause',\n",
       " 'personality',\n",
       " 'power_state',\n",
       " 'progress',\n",
       " 'project_id',\n",
       " 'put_create',\n",
       " 'reboot',\n",
       " 'rebuild',\n",
       " 'remove_fixed_ip',\n",
       " 'remove_floating_ip',\n",
       " 'remove_security_group',\n",
       " 'rescue',\n",
       " 'reset_state',\n",
       " 'resize',\n",
       " 'resource_key',\n",
       " 'resources_key',\n",
       " 'resume',\n",
       " 'revert_resize',\n",
       " 'scheduler_hints',\n",
       " 'security_groups',\n",
       " 'service',\n",
       " 'set_metadata',\n",
       " 'shelve',\n",
       " 'start',\n",
       " 'status',\n",
       " 'stop',\n",
       " 'suspend',\n",
       " 'task_state',\n",
       " 'terminated_at',\n",
       " 'to_dict',\n",
       " 'unlock',\n",
       " 'unpause',\n",
       " 'unrescue',\n",
       " 'unshelve',\n",
       " 'update',\n",
       " 'updated_at',\n",
       " 'user_data',\n",
       " 'user_id',\n",
       " 'vm_state']"
      ]
     },
     "execution_count": 34,
     "metadata": {},
     "output_type": "execute_result"
    }
   ],
   "source": [
    "dir(x.get_vm_by_name(vmn=vm))"
   ]
  },
  {
   "cell_type": "code",
   "execution_count": 126,
   "metadata": {},
   "outputs": [
    {
     "data": {
      "text/plain": [
       "('8724e0a0-e209-4025-a272-f04fab547cfa',\n",
       " openstack.compute.v2.flavor.FlavorDetail(name=m1.large, links=[{'href': 'http://controller:8774/v2.1/b83a5fb65edc41a1a745f06aa093d416/flavors/4', 'rel': 'self'}, {'href': 'http://controller:8774/b83a5fb65edc41a1a745f06aa093d416/flavors/4', 'rel': 'bookmark'}], ram=8192, OS-FLV-DISABLED:disabled=False, vcpus=4, swap=, os-flavor-access:is_public=True, rxtx_factor=1.0, OS-FLV-EXT-DATA:ephemeral=0, disk=80, id=4))"
      ]
     },
     "execution_count": 126,
     "metadata": {},
     "output_type": "execute_result"
    }
   ],
   "source": [
    "s=x.get_vm_by_name(vmn=vm)\n",
    "f=[i for i in c1.compute.flavors(details=True)]\n",
    "s.flavor['id'],f[12]"
   ]
  },
  {
   "cell_type": "code",
   "execution_count": 40,
   "metadata": {
    "collapsed": true
   },
   "outputs": [],
   "source": [
    "vmd = {}\n",
    "for i in x.get_names():\n",
    "    vmd[i]=x.get_vm_by_name(vmn=i).to_dict()"
   ]
  },
  {
   "cell_type": "code",
   "execution_count": 98,
   "metadata": {},
   "outputs": [
    {
     "data": {
      "text/plain": [
       "{'access_ipv4': '',\n",
       " 'access_ipv6': '',\n",
       " 'addresses': {'vlan_19': [{'OS-EXT-IPS-MAC:mac_addr': 'fa:16:3e:c4:eb:50',\n",
       "    'OS-EXT-IPS:type': 'fixed',\n",
       "    'addr': '10.135.7.61',\n",
       "    'version': 4}]},\n",
       " 'admin_password': None,\n",
       " 'attached_volumes': [{'id': '887fd27a-e899-4e23-9579-eca1d25f4b3c'},\n",
       "  {'id': '4f0e1f50-10bf-462d-a5a9-281a171fe628'}],\n",
       " 'availability_zone': 'nova',\n",
       " 'block_device_mapping': None,\n",
       " 'created_at': '2017-09-05T13:48:44Z',\n",
       " 'disk_config': 'AUTO',\n",
       " 'flavor': {'id': '8724e0a0-e209-4025-a272-f04fab547cfa',\n",
       "  'links': [{'href': 'http://controller:8774/b83a5fb65edc41a1a745f06aa093d416/flavors/8724e0a0-e209-4025-a272-f04fab547cfa',\n",
       "    'rel': 'bookmark'}]},\n",
       " 'flavor_id': None,\n",
       " 'has_config_drive': '',\n",
       " 'host_id': 'c083ddfdb234c4c4d6a22c423a9d41f0a661cc5722e3d17a40735558',\n",
       " 'hypervisor_hostname': 'cn-db3e.egron.tnx',\n",
       " 'id': '19aa6baa-0d23-4754-aef3-c299aa86ae75',\n",
       " 'image': {'id': 'bbca591a-593c-4ad0-ae3b-8797ee0eeb29',\n",
       "  'links': [{'href': 'http://controller:8774/b83a5fb65edc41a1a745f06aa093d416/images/bbca591a-593c-4ad0-ae3b-8797ee0eeb29',\n",
       "    'rel': 'bookmark'}]},\n",
       " 'image_id': None,\n",
       " 'instance_name': 'instance-0000311b',\n",
       " 'key_name': None,\n",
       " 'launched_at': '2017-09-05T13:48:52.000000',\n",
       " 'links': [{'href': 'http://controller:8774/v2.1/b83a5fb65edc41a1a745f06aa093d416/servers/19aa6baa-0d23-4754-aef3-c299aa86ae75',\n",
       "   'rel': 'self'},\n",
       "  {'href': 'http://controller:8774/b83a5fb65edc41a1a745f06aa093d416/servers/19aa6baa-0d23-4754-aef3-c299aa86ae75',\n",
       "   'rel': 'bookmark'}],\n",
       " 'location': None,\n",
       " 'metadata': {},\n",
       " 'name': 'make_FreeBSD_great_again',\n",
       " 'networks': None,\n",
       " 'personality': None,\n",
       " 'power_state': 1,\n",
       " 'progress': 0,\n",
       " 'project_id': 'b83a5fb65edc41a1a745f06aa093d416',\n",
       " 'scheduler_hints': None,\n",
       " 'security_groups': [{'name': 'default'}],\n",
       " 'status': 'ACTIVE',\n",
       " 'task_state': None,\n",
       " 'terminated_at': None,\n",
       " 'updated_at': '2017-09-07T11:25:43Z',\n",
       " 'user_data': None,\n",
       " 'user_id': 'c730609d64f6421ca7ba87edd89cbf63',\n",
       " 'vm_state': 'active'}"
      ]
     },
     "execution_count": 98,
     "metadata": {},
     "output_type": "execute_result"
    }
   ],
   "source": [
    "vmd[vm]"
   ]
  },
  {
   "cell_type": "code",
   "execution_count": 395,
   "metadata": {
    "collapsed": true
   },
   "outputs": [],
   "source": [
    "c1 = connection_to_cluster('admin')"
   ]
  },
  {
   "cell_type": "code",
   "execution_count": 279,
   "metadata": {},
   "outputs": [
    {
     "name": "stdout",
     "output_type": "stream",
     "text": [
      "CPU times: user 437 ms, sys: 123 ms, total: 560 ms\n",
      "Wall time: 17.1 s\n"
     ]
    }
   ],
   "source": [
    "%%time\n",
    "f1 = [i for i in c1.compute.flavors()]\n",
    "s1 = [i for i in c1.compute.servers(all_tenants=True)]"
   ]
  },
  {
   "cell_type": "code",
   "execution_count": 311,
   "metadata": {},
   "outputs": [
    {
     "data": {
      "text/plain": [
       "(['__call__',\n",
       "  '__class__',\n",
       "  '__delattr__',\n",
       "  '__dir__',\n",
       "  '__doc__',\n",
       "  '__eq__',\n",
       "  '__format__',\n",
       "  '__func__',\n",
       "  '__ge__',\n",
       "  '__get__',\n",
       "  '__getattribute__',\n",
       "  '__gt__',\n",
       "  '__hash__',\n",
       "  '__init__',\n",
       "  '__init_subclass__',\n",
       "  '__le__',\n",
       "  '__lt__',\n",
       "  '__ne__',\n",
       "  '__new__',\n",
       "  '__reduce__',\n",
       "  '__reduce_ex__',\n",
       "  '__repr__',\n",
       "  '__self__',\n",
       "  '__setattr__',\n",
       "  '__sizeof__',\n",
       "  '__str__',\n",
       "  '__subclasshook__'],\n",
       " ('Return a generator of flavors\\n\\n        :param bool details: When ``True``, returns\\n            :class:`~openstack.compute.v2.flavor.FlavorDetail` objects,\\n            otherwise :class:`~openstack.compute.v2.flavor.Flavor`.\\n            *Default: ``True``*\\n        :param kwargs \\\\*\\\\*query: Optional query parameters to be sent to limit\\n                                 the flavors being returned.\\n\\n        :returns: A generator of flavor objects\\n        ',\n",
       "  'paginated',\n",
       "  True))"
      ]
     },
     "execution_count": 311,
     "metadata": {},
     "output_type": "execute_result"
    }
   ],
   "source": [
    "dir(c1.compute.flavors), c1.compute.flavors.__code__.co_consts"
   ]
  },
  {
   "cell_type": "code",
   "execution_count": 146,
   "metadata": {},
   "outputs": [
    {
     "data": {
      "text/plain": [
       "('1', '19aa6baa-0d23-4754-aef3-c299aa86ae75')"
      ]
     },
     "execution_count": 146,
     "metadata": {},
     "output_type": "execute_result"
    }
   ],
   "source": [
    "fl[0].id, s1[0].id"
   ]
  },
  {
   "cell_type": "code",
   "execution_count": 370,
   "metadata": {},
   "outputs": [],
   "source": [
    "\n",
    "f2 = [i for i in c1.compute.flavors()]\n",
    "a = [i.id for i in f2]\n",
    "len(a)"
   ]
  },
  {
   "cell_type": "code",
   "execution_count": 371,
   "metadata": {},
   "outputs": [
    {
     "data": {
      "text/plain": [
       "50"
      ]
     },
     "execution_count": 371,
     "metadata": {},
     "output_type": "execute_result"
    }
   ],
   "source": [
    "\n",
    "f2 = [i for i in c1.compute.flavors(limit=0)]\n",
    "a = [i.id for i in f2]\n",
    "len(a)"
   ]
  },
  {
   "cell_type": "code",
   "execution_count": 406,
   "metadata": {},
   "outputs": [
    {
     "data": {
      "text/plain": [
       "49"
      ]
     },
     "execution_count": 406,
     "metadata": {},
     "output_type": "execute_result"
    }
   ],
   "source": [
    "\n",
    "f2 = [i for i in c1.compute.flavors()]\n",
    "a = [i.id for i in f2]\n",
    "len(a)"
   ]
  },
  {
   "cell_type": "code",
   "execution_count": 405,
   "metadata": {},
   "outputs": [
    {
     "data": {
      "text/plain": [
       "['edff431d-5808-4c01-96cb-da7de57a1fb9',\n",
       " 'e6f555e2-0819-4171-96b1-6d753d51e029',\n",
       " 'de35d280-5bb0-4767-ae4e-47174c00e82c',\n",
       " 'dcf4f459-e849-470f-998f-0fa7dce0f8c0',\n",
       " 'd38c13cc-b884-4de6-bae6-80592f06e041',\n",
       " 'd115d3e0-4337-4c5f-9fdc-5246fda2deee',\n",
       " 'd03d1f24-905e-409d-938b-6bd25bd69cd6',\n",
       " 'cf5637fd-0565-491f-b096-3ae34446a028',\n",
       " 'c0e57773-70df-48f5-b42a-9644f317e260',\n",
       " 'bf13e22b-b049-401f-be7a-69e920c82573',\n",
       " 'b9062ce8-fb20-450f-b214-35af445c1ded',\n",
       " 'b50c24ce-4d9a-4997-9cd1-eb0703936d18',\n",
       " 'b3e7c454-2034-4c95-8a31-e4b323e8c723',\n",
       " 'afea8f0c-7ff5-44da-abb9-ad1ad4c2b754',\n",
       " 'a77a6208-6163-4744-981a-19e6c0071787',\n",
       " '9e4eec8e-3645-4da3-b109-fab04452ccfd',\n",
       " '9b732cc9-e5b7-41b2-87a0-3f70bb59b91c',\n",
       " '99a9a5c9-83b1-4e76-b3dd-d01c14a47512',\n",
       " '9732791a-8621-40fb-a182-4f34158e0198',\n",
       " '93a4ea13-8a52-43b8-a56b-cb168ed60a91',\n",
       " '932803cf-780a-436f-9f76-16b9224dbfef',\n",
       " '8819812a-aff9-4ee9-ad57-719d5332792e',\n",
       " '87253188-b8c0-489c-a6e0-14c6e013cf14',\n",
       " '8724e0a0-e209-4025-a272-f04fab547cfa',\n",
       " '8200c165-9f19-4cdb-bae7-8b0167f06d28',\n",
       " '76ad63c2-129a-4dec-bcc2-db88cdcf2610',\n",
       " '76520a4b-7682-4daa-9997-cf8323f3389c',\n",
       " '75102078-bf08-48e1-9d10-f7cd9a5089dc',\n",
       " '6a33fab8-fbea-472c-970c-24365c3b4b5f',\n",
       " '661e13d9-ca50-4199-a802-abf6388d8495',\n",
       " '5e5c289a-9346-438f-be8b-aae22296bbeb',\n",
       " '5de6871b-ba51-4e4e-be7f-1d44007f1dcc',\n",
       " '592ec825-c5e6-417c-9be4-6e563ea33c3e',\n",
       " '50e1bc15-bb98-4854-abbc-6058159b6a8c',\n",
       " '5',\n",
       " '45270476-c2f7-433e-b79d-9e4538524e20',\n",
       " '443050b2-680a-48da-ac63-e13f5b0733af',\n",
       " '4',\n",
       " '3afca19f-8eb8-4917-a59a-e86dd80dd123',\n",
       " '3af82d8c-a6aa-4f74-9459-53b062061750',\n",
       " '3905118a-ca74-43be-9e54-4a1370be6042',\n",
       " '36fe0782-15f6-4f2e-a2a1-a8555f3141bd',\n",
       " '3',\n",
       " '2e773749-62da-4776-84a2-337a0fa3562b',\n",
       " '2',\n",
       " '1bdca3df-8ac0-4aca-8ae7-95179400346b',\n",
       " '1b78f715-a0e7-4a82-8eae-ae68531b3d6a',\n",
       " '1568d5bc-8be0-4de4-b4bd-cae32b6d3c96',\n",
       " '12918a31-586d-4874-9bbc-1e1a7a749d0c',\n",
       " '1']"
      ]
     },
     "execution_count": 405,
     "metadata": {},
     "output_type": "execute_result"
    }
   ],
   "source": []
  },
  {
   "cell_type": "code",
   "execution_count": 402,
   "metadata": {},
   "outputs": [
    {
     "name": "stdout",
     "output_type": "stream",
     "text": [
      "limit: 10 len of list 49\n",
      "limit: 0 len of list 0\n",
      "limit: -1 exception: HttpException: Bad Request (HTTP 400), Invalid input received: limit must be >= 0\n",
      "limit: my_string exception: HttpException: Bad Request (HTTP 400), Invalid input received: limit must be an integer\n",
      "limit: 10 len of list 44\n",
      "limit: 0 len of list 0\n",
      "limit: -1 exception: HttpException: Bad Request (HTTP 400), Invalid input received: limit must be >= 0\n",
      "limit: my_string exception: HttpException: Bad Request (HTTP 400), Invalid input received: limit must be an integer\n",
      "limit: 10 len of list 42\n",
      "limit: 0 len of list 0\n",
      "limit: -1 exception: HttpException: Bad Request (HTTP 400), Invalid input received: limit must be >= 0\n",
      "limit: my_string exception: HttpException: Bad Request (HTTP 400), Invalid input received: limit must be an integer\n"
     ]
    }
   ],
   "source": [
    "\n",
    "for m in ['1','2','3']:\n",
    "    for l in [10,0,-1,'my_string']:\n",
    "        try:\n",
    "            f2 = [i for i in c1.compute.flavors(limit=l, marker=m)]\n",
    "            a = [i.id for i in f2]\n",
    "            print('limit:',l,'len of list',len(f2))\n",
    "        except Exception as e: print('limit:',l, 'exception:',e)"
   ]
  },
  {
   "cell_type": "code",
   "execution_count": 377,
   "metadata": {},
   "outputs": [],
   "source": [
    "#c1.compute.get_flavor(flavor='f251edf6-93e0-419a-b0d4-0c2091be4f98')"
   ]
  },
  {
   "cell_type": "code",
   "execution_count": 268,
   "metadata": {},
   "outputs": [],
   "source": [
    "y = [i.id for i in b]"
   ]
  },
  {
   "cell_type": "code",
   "execution_count": 269,
   "metadata": {},
   "outputs": [
    {
     "data": {
      "text/plain": [
       "50"
      ]
     },
     "execution_count": 269,
     "metadata": {},
     "output_type": "execute_result"
    }
   ],
   "source": [
    "len(y)"
   ]
  },
  {
   "cell_type": "code",
   "execution_count": 270,
   "metadata": {},
   "outputs": [
    {
     "data": {
      "text/plain": [
       "['1',\n",
       " '12918a31-586d-4874-9bbc-1e1a7a749d0c',\n",
       " '1568d5bc-8be0-4de4-b4bd-cae32b6d3c96',\n",
       " '1b78f715-a0e7-4a82-8eae-ae68531b3d6a',\n",
       " '1bdca3df-8ac0-4aca-8ae7-95179400346b',\n",
       " '2',\n",
       " '2e773749-62da-4776-84a2-337a0fa3562b',\n",
       " '3',\n",
       " '36fe0782-15f6-4f2e-a2a1-a8555f3141bd',\n",
       " '3905118a-ca74-43be-9e54-4a1370be6042',\n",
       " '3af82d8c-a6aa-4f74-9459-53b062061750',\n",
       " '3afca19f-8eb8-4917-a59a-e86dd80dd123',\n",
       " '4',\n",
       " '443050b2-680a-48da-ac63-e13f5b0733af',\n",
       " '45270476-c2f7-433e-b79d-9e4538524e20',\n",
       " '5',\n",
       " '50e1bc15-bb98-4854-abbc-6058159b6a8c',\n",
       " '592ec825-c5e6-417c-9be4-6e563ea33c3e',\n",
       " '5de6871b-ba51-4e4e-be7f-1d44007f1dcc',\n",
       " '5e5c289a-9346-438f-be8b-aae22296bbeb',\n",
       " '661e13d9-ca50-4199-a802-abf6388d8495',\n",
       " '6a33fab8-fbea-472c-970c-24365c3b4b5f',\n",
       " '75102078-bf08-48e1-9d10-f7cd9a5089dc',\n",
       " '76520a4b-7682-4daa-9997-cf8323f3389c',\n",
       " '76ad63c2-129a-4dec-bcc2-db88cdcf2610',\n",
       " '8200c165-9f19-4cdb-bae7-8b0167f06d28',\n",
       " '8724e0a0-e209-4025-a272-f04fab547cfa',\n",
       " '87253188-b8c0-489c-a6e0-14c6e013cf14',\n",
       " '8819812a-aff9-4ee9-ad57-719d5332792e',\n",
       " '932803cf-780a-436f-9f76-16b9224dbfef',\n",
       " '93a4ea13-8a52-43b8-a56b-cb168ed60a91',\n",
       " '9732791a-8621-40fb-a182-4f34158e0198',\n",
       " '99a9a5c9-83b1-4e76-b3dd-d01c14a47512',\n",
       " '9b732cc9-e5b7-41b2-87a0-3f70bb59b91c',\n",
       " '9e4eec8e-3645-4da3-b109-fab04452ccfd',\n",
       " 'a77a6208-6163-4744-981a-19e6c0071787',\n",
       " 'afea8f0c-7ff5-44da-abb9-ad1ad4c2b754',\n",
       " 'b3e7c454-2034-4c95-8a31-e4b323e8c723',\n",
       " 'b50c24ce-4d9a-4997-9cd1-eb0703936d18',\n",
       " 'b9062ce8-fb20-450f-b214-35af445c1ded',\n",
       " 'bf13e22b-b049-401f-be7a-69e920c82573',\n",
       " 'c0e57773-70df-48f5-b42a-9644f317e260',\n",
       " 'cf5637fd-0565-491f-b096-3ae34446a028',\n",
       " 'd03d1f24-905e-409d-938b-6bd25bd69cd6',\n",
       " 'd115d3e0-4337-4c5f-9fdc-5246fda2deee',\n",
       " 'd38c13cc-b884-4de6-bae6-80592f06e041',\n",
       " 'dcf4f459-e849-470f-998f-0fa7dce0f8c0',\n",
       " 'de35d280-5bb0-4767-ae4e-47174c00e82c',\n",
       " 'e6f555e2-0819-4171-96b1-6d753d51e029',\n",
       " 'edff431d-5808-4c01-96cb-da7de57a1fb9']"
      ]
     },
     "execution_count": 270,
     "metadata": {},
     "output_type": "execute_result"
    }
   ],
   "source": [
    "y"
   ]
  },
  {
   "cell_type": "code",
   "execution_count": null,
   "metadata": {
    "collapsed": true
   },
   "outputs": [],
   "source": []
  }
 ],
 "metadata": {
  "kernelspec": {
   "display_name": "Python 3",
   "language": "python",
   "name": "python3"
  },
  "language_info": {
   "codemirror_mode": {
    "name": "ipython",
    "version": 3
   },
   "file_extension": ".py",
   "mimetype": "text/x-python",
   "name": "python",
   "nbconvert_exporter": "python",
   "pygments_lexer": "ipython3",
   "version": "3.6.1"
  }
 },
 "nbformat": 4,
 "nbformat_minor": 2
}
