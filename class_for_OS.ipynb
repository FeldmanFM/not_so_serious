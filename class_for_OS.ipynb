{
 "cells": [
  {
   "cell_type": "code",
   "execution_count": 1,
   "metadata": {},
   "outputs": [],
   "source": [
    "from openstack import connection, identity\n",
    "import copy"
   ]
  },
  {
   "cell_type": "code",
   "execution_count": 2,
   "metadata": {},
   "outputs": [],
   "source": [
    "def connection_to_cluster(project):\n",
    "    conn = connection.Connection(auth_url=\"http://controller:35357/v3\",\n",
    "                                 project_name=project,\n",
    "                                 project_domain_name=\"default\",\n",
    "                                 user_domain_name=\"default\",\n",
    "                                 username=\"admin\",\n",
    "                                 password=\"QIP@t4Ay\")\n",
    "    return conn"
   ]
  },
  {
   "cell_type": "code",
   "execution_count": 3,
   "metadata": {},
   "outputs": [],
   "source": [
    "class OSmap(object):\n",
    "    \n",
    "    def __init__ (self, connection='', OS=True, with_flavors=True, with_volumes=True, hypervisor_details=False):\n",
    "        'Инит функция'\n",
    "        if OS == True:\n",
    "            self.__conn = connection\n",
    "            self.__sl = [i for i in self.__conn.compute.servers(all_tenants=True)]\n",
    "            self.__hl = [i for i in self.__conn.compute.hypervisors()]\n",
    "            \n",
    "            if with_flavors == True:\n",
    "                self.__fd = self.__get_fl_dict()\n",
    "                self.dict_flavors = copy.deepcopy(self.__fd)\n",
    "            \n",
    "            if with_volumes == True:\n",
    "                self.__vd = self.__get_vl_dict()\n",
    "                self.dict_volumes = copy.deepcopy(self.__vd)\n",
    "                \n",
    "                \n",
    "            self.dict_hypervisors = self.__get_hp_dict(details=hypervisor_details)\n",
    "            self.dict_servers = self.__get_vm_dict(flavors=with_flavors)\n",
    "            self.list_names  = self.__get_names()\n",
    "    \n",
    "    \n",
    "    def get_vm_by_name(self, vmn=''):\n",
    "        'Функция возвращает объект ВМ на основании имени'\n",
    "        for i in self.__sl:\n",
    "            if i.name == vmn:\n",
    "                return i \n",
    "    \n",
    "    def get_vm_by_id(self, vmn=''):\n",
    "        'Функция возвращает объект ВМ на основании ID'\n",
    "        for i in self.__sl:\n",
    "            if i.id == vmn:\n",
    "                return i \n",
    "    \n",
    "        \n",
    "    \n",
    "    def __get_hp_dict(self, details=False):\n",
    "        'Функция возвращает словарь гипервизоров'\n",
    "        d = {}\n",
    "        for i in self.__hl:\n",
    "            if details == True:\n",
    "                d[i.name]=self.__conn.compute.get_hypervisor(i.id).to_dict()\n",
    "            else:\n",
    "                d[i.name]=i.to_dict()\n",
    "        return d   \n",
    "           \n",
    "    def __get_fl_dict(self):\n",
    "        'Функция возвращает словарь флейворов'\n",
    "        d = {}\n",
    "        for i in set([i.flavor['id'] for i in self.__sl]):\n",
    "            d[i]=self.__conn.compute.get_flavor(flavor=i).to_dict()\n",
    "        return d\n",
    "    \n",
    "    def __get_vl_dict(self):\n",
    "        'Функция возвращает словарь вольюмов'\n",
    "        d = {}\n",
    "        for i in [i for i in self.__conn.block_store.volumes(all_tenants=True)]:\n",
    "            d[i.id]=i.to_dict()\n",
    "        return d\n",
    "    \n",
    "    \n",
    "    def __get_names (self):\n",
    "        'Функция возвращает список имен ВМ'\n",
    "        a = [i.name for i in self.__sl]\n",
    "        return a\n",
    "    \n",
    "            \n",
    "    def __get_vm_dict(self,flavors=True):\n",
    "        'Возвращает словарь с описанием ВМ из OS + cpu & ram'\n",
    "        d = {}\n",
    "        for i in self.__sl:\n",
    "            d[i.name] = self.get_vm_by_name(vmn=i.name).to_dict()\n",
    "            if flavors == True:\n",
    "                d[i.name]['cpu'] = self.__fd[i.flavor['id']]['vcpus']\n",
    "                d[i.name]['ram'] = self.__fd[i.flavor['id']]['ram']\n",
    "        return d\n",
    "        "
   ]
  },
  {
   "cell_type": "code",
   "execution_count": 8,
   "metadata": {},
   "outputs": [],
   "source": [
    "conn = connection_to_cluster('pkurp')"
   ]
  },
  {
   "cell_type": "code",
   "execution_count": 9,
   "metadata": {},
   "outputs": [],
   "source": [
    "x = OSmap(connection_to_cluster('pkurp'), with_flavors=False, with_volumes=False)"
   ]
  },
  {
   "cell_type": "code",
   "execution_count": 10,
   "metadata": {},
   "outputs": [
    {
     "data": {
      "text/plain": [
       "1662"
      ]
     },
     "execution_count": 10,
     "metadata": {},
     "output_type": "execute_result"
    }
   ],
   "source": [
    "len(x.list_names)"
   ]
  },
  {
   "cell_type": "code",
   "execution_count": null,
   "metadata": {},
   "outputs": [],
   "source": [
    "p = conn.identity.projects()\n",
    "pp = [i for i in p]"
   ]
  },
  {
   "cell_type": "code",
   "execution_count": null,
   "metadata": {},
   "outputs": [],
   "source": [
    "len(pp)"
   ]
  },
  {
   "cell_type": "code",
   "execution_count": null,
   "metadata": {},
   "outputs": [],
   "source": [
    "for i in p: \n",
    "    print(i)"
   ]
  },
  {
   "cell_type": "code",
   "execution_count": null,
   "metadata": {},
   "outputs": [],
   "source": [
    "%%time\n",
    "x = OSmap(connection_to_cluster('admin'), with_flavors=False, with_volumes=False)"
   ]
  },
  {
   "cell_type": "code",
   "execution_count": null,
   "metadata": {},
   "outputs": [],
   "source": [
    "%%time\n",
    "y = OSmap(connection_to_cluster('admin'), with_flavors=True, with_volumes=False)"
   ]
  },
  {
   "cell_type": "code",
   "execution_count": null,
   "metadata": {},
   "outputs": [],
   "source": [
    "%%time\n",
    "z = OSmap(connection_to_cluster('admin'), with_flavors=True, with_volumes=True)"
   ]
  },
  {
   "cell_type": "code",
   "execution_count": null,
   "metadata": {},
   "outputs": [],
   "source": [
    "%%time\n",
    "x1 = OSmap(connection_to_cluster('admin'), with_flavors=False, with_volumes=False, hypervisor_details=True)"
   ]
  },
  {
   "cell_type": "code",
   "execution_count": null,
   "metadata": {},
   "outputs": [],
   "source": [
    "%%time\n",
    "y1 = OSmap(connection_to_cluster('admin'), with_flavors=True, with_volumes=False, hypervisor_details=True)"
   ]
  },
  {
   "cell_type": "code",
   "execution_count": null,
   "metadata": {},
   "outputs": [],
   "source": [
    "%%time\n",
    "z1 = OSmap(connection_to_cluster('admin'), with_flavors=True, with_volumes=True, hypervisor_details=True)"
   ]
  },
  {
   "cell_type": "code",
   "execution_count": null,
   "metadata": {},
   "outputs": [],
   "source": [
    "x = z1.dict_volumes"
   ]
  },
  {
   "cell_type": "code",
   "execution_count": null,
   "metadata": {},
   "outputs": [],
   "source": [
    "x"
   ]
  },
  {
   "cell_type": "code",
   "execution_count": null,
   "metadata": {},
   "outputs": [],
   "source": [
    "xl = [d for d in x.keys() if x[d]['volume_type'] == '3par']"
   ]
  },
  {
   "cell_type": "code",
   "execution_count": null,
   "metadata": {},
   "outputs": [],
   "source": [
    "len(xl)"
   ]
  },
  {
   "cell_type": "code",
   "execution_count": null,
   "metadata": {},
   "outputs": [],
   "source": [
    "dl = [[x[d]['id'],x[d]['name'],x[d]['created_at']] for d in xl]"
   ]
  },
  {
   "cell_type": "code",
   "execution_count": null,
   "metadata": {},
   "outputs": [],
   "source": [
    "dls = sorted(dl, key = lambda x: x[2] )"
   ]
  },
  {
   "cell_type": "code",
   "execution_count": null,
   "metadata": {},
   "outputs": [],
   "source": [
    "import openpyxl\n",
    "from openpyxl import *\n",
    "ofile='./3par_disks.xlsx'\n",
    "wb = Workbook ()\n",
    "try:\n",
    "    os.remove(ofile)\n",
    "except OSError:\n",
    "    pass\n",
    "ws = wb.active\n",
    "ws.title=('диски 3par')\n",
    "ws.cell(column=1,row=1, value='ID')\n",
    "ws.cell(column=2,row=1, value='NAME')\n",
    "ws.cell(column=3,row=1, value='DATE')\n",
    "row=2\n",
    "for i in dls:\n",
    "    ws.cell(column=1,row=row, value=i[0])\n",
    "    ws.cell(column=2,row=row, value=i[1])\n",
    "    ws.cell(column=3,row=row, value=i[2])\n",
    "    row = row + 1\n",
    "wb.save(ofile)\n",
    "wb.close()"
   ]
  },
  {
   "cell_type": "code",
   "execution_count": null,
   "metadata": {},
   "outputs": [],
   "source": [
    "#z1.list_names"
   ]
  },
  {
   "cell_type": "code",
   "execution_count": null,
   "metadata": {},
   "outputs": [],
   "source": [
    "#vd = z1.dict_volumes\n",
    "#sd = z1.dict_servers"
   ]
  },
  {
   "cell_type": "code",
   "execution_count": null,
   "metadata": {},
   "outputs": [],
   "source": [
    "#vid = vd['9c5d9579-7a29-4abb-9bd2-05875c84db1d']['attachments'][0]['server_id']"
   ]
  },
  {
   "cell_type": "code",
   "execution_count": null,
   "metadata": {},
   "outputs": [],
   "source": [
    "#z1.get_vm_by_id(vid).name"
   ]
  },
  {
   "cell_type": "code",
   "execution_count": null,
   "metadata": {},
   "outputs": [],
   "source": [
    "#volumes_attached = [i for i in vd.keys() if vd[i]['attachments'] != []]\n",
    "#volumes_notNone_attached = [i for i in vd.keys() if vd[i]['attachments'] != [] \\\n",
    "#                        and z1.get_vm_by_id(vd[i]['attachments'][0]['server_id']) is not None]\n",
    "#volumes_dettached = [i for i in vd.keys() if vd[i]['attachments'] == []]\n",
    "#volumes_None_attached = [i for i in vd.keys() if vd[i]['attachments'] != [] \\\n",
    "                        and z1.get_vm_by_id(vd[i]['attachments'][0]['server_id']) is None]"
   ]
  },
  {
   "cell_type": "code",
   "execution_count": null,
   "metadata": {},
   "outputs": [],
   "source": [
    "#sd[z1.get_vm_by_id(vid).name]\n",
    "#vd['2d2e33a4-5c0f-48e4-9b1e-1cb10e264803']"
   ]
  },
  {
   "cell_type": "code",
   "execution_count": null,
   "metadata": {},
   "outputs": [],
   "source": []
  },
  {
   "cell_type": "code",
   "execution_count": null,
   "metadata": {},
   "outputs": [],
   "source": [
    "len(vd.keys()), len(volumes_attached), len(volumes_dettached), len(volumes_None_attached), len(volumes_notNone_attached)"
   ]
  },
  {
   "cell_type": "code",
   "execution_count": null,
   "metadata": {},
   "outputs": [],
   "source": [
    "print('Список дисков с кривым аттачем:')\n",
    "print('')\n",
    "for v in volumes_None_attached:\n",
    "    name = vd[v]['name']\n",
    "    server = z1.get_vm_by_id(vd[v]['attachments'][0]['server_id'])\n",
    "    size = vd[v]['size']\n",
    "    vtype = vd[v]['volume_type']\n",
    "    v_id = vd[v]['id']\n",
    "    print(server, v_id ,vtype, size, name)\n",
    "    "
   ]
  },
  {
   "cell_type": "code",
   "execution_count": null,
   "metadata": {},
   "outputs": [],
   "source": [
    "#vd['68e3161d-42c9-4440-be83-25d9652d403a']"
   ]
  },
  {
   "cell_type": "code",
   "execution_count": null,
   "metadata": {},
   "outputs": [],
   "source": [
    "print('Список дисков с аттачем:')\n",
    "print('')\n",
    "for v in volumes_notNone_attached:\n",
    "    name = vd[v]['name']\n",
    "    server = z1.get_vm_by_id(vd[v]['attachments'][0]['server_id']).name\n",
    "    size = vd[v]['size']\n",
    "    vtype = vd[v]['volume_type']\n",
    "    v_id = vd[v]['id']\n",
    "    print(server, v_id ,vtype, size, name)"
   ]
  },
  {
   "cell_type": "code",
   "execution_count": null,
   "metadata": {},
   "outputs": [],
   "source": [
    "print('Список дисков без аттача:')\n",
    "print('')\n",
    "for v in volumes_dettached:\n",
    "    name = vd[v]['name']\n",
    "    #server = z1.get_vm_by_id(vd[v]['attachments'][0]['server_id']).name\n",
    "    size = vd[v]['size']\n",
    "    vtype = vd[v]['volume_type']\n",
    "    v_id = vd[v]['id']\n",
    "    print(name, v_id ,vtype, size)"
   ]
  },
  {
   "cell_type": "code",
   "execution_count": null,
   "metadata": {},
   "outputs": [],
   "source": []
  },
  {
   "cell_type": "code",
   "execution_count": null,
   "metadata": {},
   "outputs": [],
   "source": [
    "#asd"
   ]
  },
  {
   "cell_type": "code",
   "execution_count": null,
   "metadata": {},
   "outputs": [],
   "source": [
    "target_cn = 'cn-db08.egron.tnx'"
   ]
  },
  {
   "cell_type": "code",
   "execution_count": null,
   "metadata": {},
   "outputs": [],
   "source": [
    "sl = [i for i in z1.dict_servers.keys() if z1.dict_servers[i]['hypervisor_hostname'] == target_cn] "
   ]
  },
  {
   "cell_type": "code",
   "execution_count": null,
   "metadata": {},
   "outputs": [],
   "source": [
    "sl"
   ]
  },
  {
   "cell_type": "code",
   "execution_count": null,
   "metadata": {},
   "outputs": [],
   "source": [
    "memory_list = [z1.dict_servers[i]['ram'] for i in sl]"
   ]
  },
  {
   "cell_type": "code",
   "execution_count": null,
   "metadata": {},
   "outputs": [],
   "source": [
    "memory = sum(memory_list)"
   ]
  },
  {
   "cell_type": "code",
   "execution_count": null,
   "metadata": {},
   "outputs": [],
   "source": [
    "516900 - memory "
   ]
  },
  {
   "cell_type": "code",
   "execution_count": null,
   "metadata": {},
   "outputs": [],
   "source": [
    "memory_list"
   ]
  },
  {
   "cell_type": "code",
   "execution_count": null,
   "metadata": {},
   "outputs": [],
   "source": []
  }
 ],
 "metadata": {
  "kernelspec": {
   "display_name": "Python 3",
   "language": "python",
   "name": "python3"
  },
  "language_info": {
   "codemirror_mode": {
    "name": "ipython",
    "version": 3
   },
   "file_extension": ".py",
   "mimetype": "text/x-python",
   "name": "python",
   "nbconvert_exporter": "python",
   "pygments_lexer": "ipython3",
   "version": "3.6.2"
  }
 },
 "nbformat": 4,
 "nbformat_minor": 2
}
