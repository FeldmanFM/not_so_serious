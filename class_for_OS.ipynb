{
 "cells": [
  {
   "cell_type": "code",
   "execution_count": 10,
   "metadata": {
    "collapsed": true
   },
   "outputs": [],
   "source": [
    "from openstack import connection\n",
    "import copy"
   ]
  },
  {
   "cell_type": "code",
   "execution_count": 11,
   "metadata": {
    "collapsed": true
   },
   "outputs": [],
   "source": [
    "def connection_to_cluster(project):\n",
    "    conn = connection.Connection(auth_url=\"http://controller:35357/v3\",\n",
    "                                 project_name=project,\n",
    "                                 project_domain_name=\"default\",\n",
    "                                 user_domain_name=\"default\",\n",
    "                                 username=\"admin\",\n",
    "                                 password=\"QIP@t4Ay\")\n",
    "    return conn"
   ]
  },
  {
   "cell_type": "code",
   "execution_count": 12,
   "metadata": {
    "collapsed": true
   },
   "outputs": [],
   "source": [
    "class OSmap(object):\n",
    "    \n",
    "    def __init__ (self, connection='', OS=True, with_flavors=True, with_volumes=True, hypervisor_details=False):\n",
    "        'Инит функция'\n",
    "        if OS == True:\n",
    "            self.__conn = connection\n",
    "            self.__sl = [i for i in self.__conn.compute.servers(all_tenants=True)]\n",
    "            self.__hl = [i for i in self.__conn.compute.hypervisors()]\n",
    "            \n",
    "            if with_flavors == True:\n",
    "                self.__fd = self.__get_fl_dict()\n",
    "                self.dict_flavors = copy.deepcopy(self.__fd)\n",
    "            \n",
    "            if with_volumes == True:\n",
    "                self.__vd = self.__get_vl_dict()\n",
    "                self.dict_volumes = copy.deepcopy(self.__vd)\n",
    "                \n",
    "                \n",
    "            self.dict_hypervisors = self.__get_hp_dict(details=hypervisor_details)\n",
    "            self.dict_servers = self.__get_vm_dict(flavors=with_flavors)\n",
    "            self.list_names  = self.__get_names()\n",
    "    \n",
    "    \n",
    "    def get_vm_by_name(self, vmn=''):\n",
    "        'Функция возвращает объект ВМ на основании имени'\n",
    "        for i in self.__sl:\n",
    "            if i.name == vmn:\n",
    "                return i \n",
    "            \n",
    "    def __get_hp_dict(self, details=False):\n",
    "        'Функция возвращает словарь гипервизоров'\n",
    "        d = {}\n",
    "        for i in self.__hl:\n",
    "            if details == True:\n",
    "                d[i.name]=self.__conn.compute.get_hypervisor(i.id).to_dict()\n",
    "            else:\n",
    "                d[i.name]=i.to_dict()\n",
    "        return d   \n",
    "           \n",
    "    def __get_fl_dict(self):\n",
    "        'Функция возвращает словарь флейворов'\n",
    "        d = {}\n",
    "        for i in set([i.flavor['id'] for i in self.__sl]):\n",
    "            d[i]=self.__conn.compute.get_flavor(flavor=i).to_dict()\n",
    "        return d\n",
    "    \n",
    "    def __get_vl_dict(self):\n",
    "        'Функция возвращает словарь вольюмов'\n",
    "        d = {}\n",
    "        for i in [i for i in self.__conn.block_store.volumes(all_tenants=True)]:\n",
    "            d[i.id]=i.to_dict()\n",
    "        return d\n",
    "    \n",
    "    \n",
    "    def __get_names (self):\n",
    "        'Функция возвращает список имен ВМ'\n",
    "        a = [i.name for i in self.__sl]\n",
    "        return a\n",
    "    \n",
    "            \n",
    "    def __get_vm_dict(self,flavors=True):\n",
    "        'Возвращает словарь с описанием ВМ из OS + cpu & ram'\n",
    "        d = {}\n",
    "        for i in self.__sl:\n",
    "            d[i.name] = self.get_vm_by_name(vmn=i.name).to_dict()\n",
    "            if flavors == True:\n",
    "                d[i.name]['cpu'] = self.__fd[i.flavor['id']]['vcpus']\n",
    "                d[i.name]['ram'] = self.__fd[i.flavor['id']]['ram']\n",
    "        return d\n",
    "        "
   ]
  },
  {
   "cell_type": "code",
   "execution_count": 13,
   "metadata": {},
   "outputs": [
    {
     "name": "stdout",
     "output_type": "stream",
     "text": [
      "CPU times: user 2.99 s, sys: 92.3 ms, total: 3.09 s\n",
      "Wall time: 15.8 s\n"
     ]
    }
   ],
   "source": [
    "%%time\n",
    "x = OSmap(connection_to_cluster('admin'), with_flavors=False, with_volumes=False)"
   ]
  },
  {
   "cell_type": "code",
   "execution_count": 14,
   "metadata": {},
   "outputs": [
    {
     "name": "stdout",
     "output_type": "stream",
     "text": [
      "CPU times: user 3.48 s, sys: 48.2 ms, total: 3.52 s\n",
      "Wall time: 17.9 s\n"
     ]
    }
   ],
   "source": [
    "%%time\n",
    "y = OSmap(connection_to_cluster('admin'), with_flavors=True, with_volumes=False)"
   ]
  },
  {
   "cell_type": "code",
   "execution_count": 15,
   "metadata": {},
   "outputs": [
    {
     "name": "stdout",
     "output_type": "stream",
     "text": [
      "CPU times: user 5.16 s, sys: 107 ms, total: 5.26 s\n",
      "Wall time: 34.7 s\n"
     ]
    }
   ],
   "source": [
    "%%time\n",
    "z = OSmap(connection_to_cluster('admin'), with_flavors=True, with_volumes=True)"
   ]
  },
  {
   "cell_type": "code",
   "execution_count": 16,
   "metadata": {},
   "outputs": [
    {
     "name": "stdout",
     "output_type": "stream",
     "text": [
      "CPU times: user 4.11 s, sys: 68.5 ms, total: 4.18 s\n",
      "Wall time: 21.1 s\n"
     ]
    }
   ],
   "source": [
    "%%time\n",
    "x1 = OSmap(connection_to_cluster('admin'), with_flavors=False, with_volumes=False, hypervisor_details=True)"
   ]
  },
  {
   "cell_type": "code",
   "execution_count": 17,
   "metadata": {},
   "outputs": [
    {
     "name": "stdout",
     "output_type": "stream",
     "text": [
      "CPU times: user 5.18 s, sys: 31.3 ms, total: 5.21 s\n",
      "Wall time: 23.8 s\n"
     ]
    }
   ],
   "source": [
    "%%time\n",
    "y1 = OSmap(connection_to_cluster('admin'), with_flavors=True, with_volumes=False, hypervisor_details=True)"
   ]
  },
  {
   "cell_type": "code",
   "execution_count": 18,
   "metadata": {},
   "outputs": [
    {
     "name": "stdout",
     "output_type": "stream",
     "text": [
      "CPU times: user 5.38 s, sys: 55.7 ms, total: 5.44 s\n",
      "Wall time: 39.1 s\n"
     ]
    }
   ],
   "source": [
    "%%time\n",
    "z1 = OSmap(connection_to_cluster('admin'), with_flavors=True, with_volumes=True, hypervisor_details=True)"
   ]
  },
  {
   "cell_type": "code",
   "execution_count": 26,
   "metadata": {},
   "outputs": [
    {
     "data": {
      "text/plain": [
       "76"
      ]
     },
     "execution_count": 26,
     "metadata": {},
     "output_type": "execute_result"
    }
   ],
   "source": []
  },
  {
   "cell_type": "code",
   "execution_count": 27,
   "metadata": {},
   "outputs": [
    {
     "data": {
      "text/plain": [
       "76"
      ]
     },
     "execution_count": 27,
     "metadata": {},
     "output_type": "execute_result"
    }
   ],
   "source": []
  },
  {
   "cell_type": "code",
   "execution_count": null,
   "metadata": {
    "collapsed": true
   },
   "outputs": [],
   "source": []
  }
 ],
 "metadata": {
  "kernelspec": {
   "display_name": "Python 3",
   "language": "python",
   "name": "python3"
  },
  "language_info": {
   "codemirror_mode": {
    "name": "ipython",
    "version": 3
   },
   "file_extension": ".py",
   "mimetype": "text/x-python",
   "name": "python",
   "nbconvert_exporter": "python",
   "pygments_lexer": "ipython3",
   "version": "3.4.6"
  }
 },
 "nbformat": 4,
 "nbformat_minor": 2
}
